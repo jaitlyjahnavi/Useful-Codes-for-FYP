{
 "cells": [
  {
   "cell_type": "code",
   "execution_count": 2,
   "metadata": {},
   "outputs": [],
   "source": [
    "import numpy as np # linear algebra\n",
    "import pandas as pd # data processing, CSV file I/O (e.g. pd.read_csv)"
   ]
  },
  {
   "cell_type": "code",
   "execution_count": null,
   "metadata": {},
   "outputs": [],
   "source": [
    "#EXP4. Comparing it with COVID-19 specific repos"
   ]
  },
  {
   "cell_type": "code",
   "execution_count": 3,
   "metadata": {},
   "outputs": [
    {
     "data": {
      "text/html": [
       "<div>\n",
       "<style scoped>\n",
       "    .dataframe tbody tr th:only-of-type {\n",
       "        vertical-align: middle;\n",
       "    }\n",
       "\n",
       "    .dataframe tbody tr th {\n",
       "        vertical-align: top;\n",
       "    }\n",
       "\n",
       "    .dataframe thead th {\n",
       "        text-align: right;\n",
       "    }\n",
       "</style>\n",
       "<table border=\"1\" class=\"dataframe\">\n",
       "  <thead>\n",
       "    <tr style=\"text-align: right;\">\n",
       "      <th></th>\n",
       "      <th>1</th>\n",
       "      <th>Adds</th>\n",
       "      <th>Subs</th>\n",
       "      <th>Date</th>\n",
       "    </tr>\n",
       "  </thead>\n",
       "  <tbody>\n",
       "    <tr>\n",
       "      <th>0</th>\n",
       "      <td>1581206400</td>\n",
       "      <td>13549</td>\n",
       "      <td>-10213</td>\n",
       "      <td>2020-02-09</td>\n",
       "    </tr>\n",
       "    <tr>\n",
       "      <th>1</th>\n",
       "      <td>1581811200</td>\n",
       "      <td>8296</td>\n",
       "      <td>-7308</td>\n",
       "      <td>2020-02-16</td>\n",
       "    </tr>\n",
       "    <tr>\n",
       "      <th>2</th>\n",
       "      <td>1582416000</td>\n",
       "      <td>7530</td>\n",
       "      <td>-4554</td>\n",
       "      <td>2020-02-23</td>\n",
       "    </tr>\n",
       "    <tr>\n",
       "      <th>3</th>\n",
       "      <td>1583020800</td>\n",
       "      <td>11295</td>\n",
       "      <td>-12380</td>\n",
       "      <td>2020-03-01</td>\n",
       "    </tr>\n",
       "    <tr>\n",
       "      <th>4</th>\n",
       "      <td>1583625600</td>\n",
       "      <td>20046</td>\n",
       "      <td>-17739</td>\n",
       "      <td>2020-03-08</td>\n",
       "    </tr>\n",
       "  </tbody>\n",
       "</table>\n",
       "</div>"
      ],
      "text/plain": [
       "            1   Adds   Subs        Date\n",
       "0  1581206400  13549 -10213  2020-02-09\n",
       "1  1581811200   8296  -7308  2020-02-16\n",
       "2  1582416000   7530  -4554  2020-02-23\n",
       "3  1583020800  11295 -12380  2020-03-01\n",
       "4  1583625600  20046 -17739  2020-03-08"
      ]
     },
     "execution_count": 3,
     "metadata": {},
     "output_type": "execute_result"
    }
   ],
   "source": [
    "df = pd.read_csv('Covid-19 repo.csv')\n",
    "df.head()"
   ]
  },
  {
   "cell_type": "code",
   "execution_count": 4,
   "metadata": {},
   "outputs": [
    {
     "name": "stdout",
     "output_type": "stream",
     "text": [
      "<class 'pandas.core.frame.DataFrame'>\n",
      "RangeIndex: 111 entries, 0 to 110\n",
      "Data columns (total 4 columns):\n",
      " #   Column  Non-Null Count  Dtype \n",
      "---  ------  --------------  ----- \n",
      " 0   1       111 non-null    int64 \n",
      " 1   Adds    111 non-null    int64 \n",
      " 2   Subs    111 non-null    int64 \n",
      " 3   Date    111 non-null    object\n",
      "dtypes: int64(3), object(1)\n",
      "memory usage: 3.6+ KB\n"
     ]
    }
   ],
   "source": [
    "df.info()"
   ]
  },
  {
   "cell_type": "code",
   "execution_count": 5,
   "metadata": {},
   "outputs": [
    {
     "name": "stdout",
     "output_type": "stream",
     "text": [
      "              1    Adds    Subs       Date\n",
      "0    1581206400   13549  -10213 2020-02-09\n",
      "1    1581811200    8296   -7308 2020-02-16\n",
      "2    1582416000    7530   -4554 2020-02-23\n",
      "3    1583020800   11295  -12380 2020-03-01\n",
      "4    1583625600   20046  -17739 2020-03-08\n",
      "..          ...     ...     ...        ...\n",
      "106  1645315200  120424  -91617 2022-02-20\n",
      "107  1645920000  126064  -97225 2022-02-27\n",
      "108  1646524800  220223 -191616 2022-03-06\n",
      "109  1647129600  138950 -110119 2022-03-13\n",
      "110  1647734400   70600  -46058 2022-03-20\n",
      "\n",
      "[111 rows x 4 columns]\n",
      "\n",
      "1                int64\n",
      "Adds             int64\n",
      "Subs             int64\n",
      "Date    datetime64[ns]\n",
      "dtype: object\n"
     ]
    }
   ],
   "source": [
    "df['Date']=pd.to_datetime(df['Date'])\n",
    "print(df)\n",
    "print()\n",
    "print(df.dtypes)"
   ]
  },
  {
   "cell_type": "code",
   "execution_count": 6,
   "metadata": {},
   "outputs": [
    {
     "name": "stdout",
     "output_type": "stream",
     "text": [
      "1       179206214400\n",
      "Adds        12813987\n",
      "Subs        -9819073\n",
      "dtype: int64\n"
     ]
    },
    {
     "name": "stderr",
     "output_type": "stream",
     "text": [
      "C:\\Users\\Jahnavi Jaitly\\AppData\\Local\\Temp\\ipykernel_15704\\295290147.py:1: FutureWarning: Dropping of nuisance columns in DataFrame reductions (with 'numeric_only=None') is deprecated; in a future version this will raise TypeError.  Select only valid columns before calling the reduction.\n",
      "  sum_of_cols=df.sum(axis=0)\n"
     ]
    }
   ],
   "source": [
    "sum_of_cols=df.sum(axis=0)\n",
    "print(sum_of_cols)"
   ]
  },
  {
   "cell_type": "code",
   "execution_count": 7,
   "metadata": {},
   "outputs": [],
   "source": [
    "import matplotlib.pyplot as plt\n",
    "from matplotlib import dates as mpl_dates\n",
    "import datetime\n",
    "from datetime import datetime,timedelta\n",
    "#from sklearn.linear_model import LinearRegression\n",
    "import seaborn as sns\n",
    "sns.set()"
   ]
  },
  {
   "cell_type": "code",
   "execution_count": 8,
   "metadata": {},
   "outputs": [],
   "source": [
    "df['Date']=pd.to_datetime(df['Date'],format='%Y-%m-%d %I-%p')"
   ]
  },
  {
   "cell_type": "code",
   "execution_count": 9,
   "metadata": {},
   "outputs": [
    {
     "data": {
      "text/plain": [
       "0     2020-02-09\n",
       "1     2020-02-16\n",
       "2     2020-02-23\n",
       "3     2020-03-01\n",
       "4     2020-03-08\n",
       "         ...    \n",
       "106   2022-02-20\n",
       "107   2022-02-27\n",
       "108   2022-03-06\n",
       "109   2022-03-13\n",
       "110   2022-03-20\n",
       "Name: Date, Length: 111, dtype: datetime64[ns]"
      ]
     },
     "execution_count": 9,
     "metadata": {},
     "output_type": "execute_result"
    }
   ],
   "source": [
    "df['Date']"
   ]
  },
  {
   "cell_type": "code",
   "execution_count": 10,
   "metadata": {},
   "outputs": [],
   "source": [
    "commit_date= df['Date']\n",
    "Adds_repo= df['Adds']"
   ]
  },
  {
   "cell_type": "code",
   "execution_count": 12,
   "metadata": {},
   "outputs": [
    {
     "data": {
      "text/plain": [
       "<function matplotlib.pyplot.tight_layout(*, pad=1.08, h_pad=None, w_pad=None, rect=None)>"
      ]
     },
     "execution_count": 12,
     "metadata": {},
     "output_type": "execute_result"
    },
    {
     "data": {
      "image/png": "[encoded data removed]",
      "text/plain": [
       "<Figure size 576x396 with 1 Axes>"
      ]
     },
     "metadata": {},
     "output_type": "display_data"
    }
   ],
   "source": [
    "plt.style.use('seaborn')\n",
    "plt.plot_date(commit_date,Adds_repo,linestyle='solid')\n",
    "plt.gcf().autofmt_xdate()\n",
    "plt.title('covid19')\n",
    "plt.xlabel('Dates')\n",
    "plt.ylabel('No.of Additions')\n",
    "plt.tight_layout"
   ]
  },
  {
   "cell_type": "code",
   "execution_count": 13,
   "metadata": {},
   "outputs": [
    {
     "data": {
      "text/html": [
       "<div>\n",
       "<style scoped>\n",
       "    .dataframe tbody tr th:only-of-type {\n",
       "        vertical-align: middle;\n",
       "    }\n",
       "\n",
       "    .dataframe tbody tr th {\n",
       "        vertical-align: top;\n",
       "    }\n",
       "\n",
       "    .dataframe thead th {\n",
       "        text-align: right;\n",
       "    }\n",
       "</style>\n",
       "<table border=\"1\" class=\"dataframe\">\n",
       "  <thead>\n",
       "    <tr style=\"text-align: right;\">\n",
       "      <th></th>\n",
       "      <th>Weeks</th>\n",
       "      <th>Adds</th>\n",
       "      <th>Subs</th>\n",
       "      <th>Year</th>\n",
       "      <th>Date</th>\n",
       "    </tr>\n",
       "  </thead>\n",
       "  <tbody>\n",
       "    <tr>\n",
       "      <th>0</th>\n",
       "      <td>1601164800</td>\n",
       "      <td>17712</td>\n",
       "      <td>-14464</td>\n",
       "      <td>2020</td>\n",
       "      <td>2020-09-27</td>\n",
       "    </tr>\n",
       "    <tr>\n",
       "      <th>1</th>\n",
       "      <td>1601769600</td>\n",
       "      <td>15950</td>\n",
       "      <td>-15942</td>\n",
       "      <td>2020</td>\n",
       "      <td>2020-10-04</td>\n",
       "    </tr>\n",
       "    <tr>\n",
       "      <th>2</th>\n",
       "      <td>1602374400</td>\n",
       "      <td>10878</td>\n",
       "      <td>-10878</td>\n",
       "      <td>2020</td>\n",
       "      <td>2020-10-11</td>\n",
       "    </tr>\n",
       "    <tr>\n",
       "      <th>3</th>\n",
       "      <td>1602979200</td>\n",
       "      <td>10848</td>\n",
       "      <td>-10847</td>\n",
       "      <td>2020</td>\n",
       "      <td>2020-10-18</td>\n",
       "    </tr>\n",
       "    <tr>\n",
       "      <th>4</th>\n",
       "      <td>1603584000</td>\n",
       "      <td>21532</td>\n",
       "      <td>-21531</td>\n",
       "      <td>2020</td>\n",
       "      <td>2020-10-25</td>\n",
       "    </tr>\n",
       "  </tbody>\n",
       "</table>\n",
       "</div>"
      ],
      "text/plain": [
       "        Weeks   Adds   Subs  Year        Date\n",
       "0  1601164800  17712 -14464  2020  2020-09-27\n",
       "1  1601769600  15950 -15942  2020  2020-10-04\n",
       "2  1602374400  10878 -10878  2020  2020-10-11\n",
       "3  1602979200  10848 -10847  2020  2020-10-18\n",
       "4  1603584000  21532 -21531  2020  2020-10-25"
      ]
     },
     "execution_count": 13,
     "metadata": {},
     "output_type": "execute_result"
    }
   ],
   "source": [
    "df = pd.read_csv('who.csv')\n",
    "df.head()"
   ]
  },
  {
   "cell_type": "code",
   "execution_count": 14,
   "metadata": {},
   "outputs": [
    {
     "name": "stdout",
     "output_type": "stream",
     "text": [
      "Weeks                                         128355408000\n",
      "Adds                                               1759972\n",
      "Subs                                              -1753021\n",
      "Year                                                159658\n",
      "Date     2020-09-272020-10-042020-10-112020-10-182020-1...\n",
      "dtype: object\n"
     ]
    }
   ],
   "source": [
    "sum_of_cols=df.sum(axis=0)\n",
    "print(sum_of_cols)"
   ]
  },
  {
   "cell_type": "code",
   "execution_count": 15,
   "metadata": {},
   "outputs": [
    {
     "data": {
      "text/html": [
       "<div>\n",
       "<style scoped>\n",
       "    .dataframe tbody tr th:only-of-type {\n",
       "        vertical-align: middle;\n",
       "    }\n",
       "\n",
       "    .dataframe tbody tr th {\n",
       "        vertical-align: top;\n",
       "    }\n",
       "\n",
       "    .dataframe thead th {\n",
       "        text-align: right;\n",
       "    }\n",
       "</style>\n",
       "<table border=\"1\" class=\"dataframe\">\n",
       "  <thead>\n",
       "    <tr style=\"text-align: right;\">\n",
       "      <th></th>\n",
       "      <th>Adds</th>\n",
       "      <th>Year</th>\n",
       "    </tr>\n",
       "  </thead>\n",
       "  <tbody>\n",
       "    <tr>\n",
       "      <th>78</th>\n",
       "      <td>31232</td>\n",
       "      <td>2020</td>\n",
       "    </tr>\n",
       "    <tr>\n",
       "      <th>77</th>\n",
       "      <td>30608</td>\n",
       "      <td>2020</td>\n",
       "    </tr>\n",
       "    <tr>\n",
       "      <th>76</th>\n",
       "      <td>30110</td>\n",
       "      <td>2020</td>\n",
       "    </tr>\n",
       "    <tr>\n",
       "      <th>75</th>\n",
       "      <td>29733</td>\n",
       "      <td>2020</td>\n",
       "    </tr>\n",
       "    <tr>\n",
       "      <th>74</th>\n",
       "      <td>29645</td>\n",
       "      <td>2020</td>\n",
       "    </tr>\n",
       "    <tr>\n",
       "      <th>73</th>\n",
       "      <td>29474</td>\n",
       "      <td>2020</td>\n",
       "    </tr>\n",
       "    <tr>\n",
       "      <th>72</th>\n",
       "      <td>29196</td>\n",
       "      <td>2020</td>\n",
       "    </tr>\n",
       "    <tr>\n",
       "      <th>71</th>\n",
       "      <td>27544</td>\n",
       "      <td>2021</td>\n",
       "    </tr>\n",
       "    <tr>\n",
       "      <th>70</th>\n",
       "      <td>27522</td>\n",
       "      <td>2021</td>\n",
       "    </tr>\n",
       "    <tr>\n",
       "      <th>69</th>\n",
       "      <td>27490</td>\n",
       "      <td>2021</td>\n",
       "    </tr>\n",
       "  </tbody>\n",
       "</table>\n",
       "</div>"
      ],
      "text/plain": [
       "     Adds  Year\n",
       "78  31232  2020\n",
       "77  30608  2020\n",
       "76  30110  2020\n",
       "75  29733  2020\n",
       "74  29645  2020\n",
       "73  29474  2020\n",
       "72  29196  2020\n",
       "71  27544  2021\n",
       "70  27522  2021\n",
       "69  27490  2021"
      ]
     },
     "execution_count": 15,
     "metadata": {},
     "output_type": "execute_result"
    }
   ],
   "source": [
    "Adds_by_year_who = df.groupby(['Adds'])['Year'].sum().reset_index().sort_values('Adds', ascending=False)\n",
    "Adds_by_year_who.head(10)"
   ]
  },
  {
   "cell_type": "code",
   "execution_count": 17,
   "metadata": {},
   "outputs": [
    {
     "data": {
      "text/plain": [
       "Text(0.5, 0, 'Year')"
      ]
     },
     "execution_count": 17,
     "metadata": {},
     "output_type": "execute_result"
    },
    {
     "data": {
      "image/png": "[encoded data removed]",
      "text/plain": [
       "<Figure size 576x396 with 1 Axes>"
      ]
     },
     "metadata": {},
     "output_type": "display_data"
    }
   ],
   "source": [
    "plot_annual_pr = sns.barplot(data=Adds_by_year_who.query('Year < 2023 & Year > 2018'),x='Year',y='Adds',ci=None)\n",
    "plot_annual_pr.set_ylabel('Adds For Who-Covid19 App (10000)')\n",
    "plot_annual_pr.set_xlabel('Year')"
   ]
  },
  {
   "cell_type": "code",
   "execution_count": 18,
   "metadata": {},
   "outputs": [
    {
     "name": "stdout",
     "output_type": "stream",
     "text": [
      "         Weeks   Adds   Subs  Year       Date\n",
      "0   1601164800  17712 -14464  2020 2020-09-27\n",
      "1   1601769600  15950 -15942  2020 2020-10-04\n",
      "2   1602374400  10878 -10878  2020 2020-10-11\n",
      "3   1602979200  10848 -10847  2020 2020-10-18\n",
      "4   1603584000  21532 -21531  2020 2020-10-25\n",
      "..         ...    ...    ...   ...        ...\n",
      "74  1645920000  17783 -17783  2022 2022-02-27\n",
      "75  1646524800  18352 -18351  2022 2022-03-06\n",
      "76  1647129600  17892 -17892  2022 2022-03-13\n",
      "77  1647734400  17418 -17418  2022 2022-03-20\n",
      "78  1648339200   2994  -2994  2022 2022-03-27\n",
      "\n",
      "[79 rows x 5 columns]\n",
      "\n",
      "Weeks             int64\n",
      "Adds              int64\n",
      "Subs              int64\n",
      "Year              int64\n",
      "Date     datetime64[ns]\n",
      "dtype: object\n"
     ]
    }
   ],
   "source": [
    "df['Date']=pd.to_datetime(df['Date'])\n",
    "print(df)\n",
    "print()\n",
    "print(df.dtypes)"
   ]
  },
  {
   "cell_type": "code",
   "execution_count": 22,
   "metadata": {},
   "outputs": [],
   "source": [
    "commit_date_who= df['Date']\n",
    "Adds_repo_who= df['Adds']"
   ]
  },
  {
   "cell_type": "code",
   "execution_count": 20,
   "metadata": {},
   "outputs": [
    {
     "data": {
      "text/plain": [
       "<function matplotlib.pyplot.tight_layout(*, pad=1.08, h_pad=None, w_pad=None, rect=None)>"
      ]
     },
     "execution_count": 20,
     "metadata": {},
     "output_type": "execute_result"
    },
    {
     "data": {
      "image/png": "[encoded data removed]",
      "text/plain": [
       "<Figure size 576x396 with 1 Axes>"
      ]
     },
     "metadata": {},
     "output_type": "display_data"
    }
   ],
   "source": [
    "plt.style.use('seaborn')\n",
    "plt.plot_date(commit_date_who,Adds_repo_who,linestyle='solid')\n",
    "plt.gcf().autofmt_xdate()\n",
    "plt.title('WHO-Covid App')\n",
    "plt.xlabel('Dates')\n",
    "plt.ylabel('No.of Additions')\n",
    "plt.tight_layout"
   ]
  }
 ],
 "metadata": {
  "interpreter": {
   "hash": "3f2443ec8f59afe4c1f979fe6a98a2049923812911b3d6b7fe9aa51d15556073"
  },
  "kernelspec": {
   "display_name": "Python 3.9.10 64-bit (windows store)",
   "language": "python",
   "name": "python3"
  },
  "language_info": {
   "codemirror_mode": {
    "name": "ipython",
    "version": 3
   },
   "file_extension": ".py",
   "mimetype": "text/x-python",
   "name": "python",
   "nbconvert_exporter": "python",
   "pygments_lexer": "ipython3",
   "version": "3.9.4"
  },
  "orig_nbformat": 4
 },
 "nbformat": 4,
 "nbformat_minor": 2
}
