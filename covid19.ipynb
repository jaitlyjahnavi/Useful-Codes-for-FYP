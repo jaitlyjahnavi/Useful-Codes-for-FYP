{
 "cells": [
  {
   "cell_type": "code",
   "execution_count": 2,
   "metadata": {},
   "outputs": [],
   "source": [
    "import numpy as np # linear algebra\n",
    "import pandas as pd # data processing, CSV file I/O (e.g. pd.read_csv)"
   ]
  },
  {
   "cell_type": "code",
   "execution_count": 3,
   "metadata": {},
   "outputs": [
    {
     "data": {
      "text/html": [
       "<div>\n",
       "<style scoped>\n",
       "    .dataframe tbody tr th:only-of-type {\n",
       "        vertical-align: middle;\n",
       "    }\n",
       "\n",
       "    .dataframe tbody tr th {\n",
       "        vertical-align: top;\n",
       "    }\n",
       "\n",
       "    .dataframe thead th {\n",
       "        text-align: right;\n",
       "    }\n",
       "</style>\n",
       "<table border=\"1\" class=\"dataframe\">\n",
       "  <thead>\n",
       "    <tr style=\"text-align: right;\">\n",
       "      <th></th>\n",
       "      <th>1</th>\n",
       "      <th>Adds</th>\n",
       "      <th>Subs</th>\n",
       "      <th>Date</th>\n",
       "    </tr>\n",
       "  </thead>\n",
       "  <tbody>\n",
       "    <tr>\n",
       "      <th>0</th>\n",
       "      <td>1581206400</td>\n",
       "      <td>13549</td>\n",
       "      <td>-10213</td>\n",
       "      <td>2020-02-09</td>\n",
       "    </tr>\n",
       "    <tr>\n",
       "      <th>1</th>\n",
       "      <td>1581811200</td>\n",
       "      <td>8296</td>\n",
       "      <td>-7308</td>\n",
       "      <td>2020-02-16</td>\n",
       "    </tr>\n",
       "    <tr>\n",
       "      <th>2</th>\n",
       "      <td>1582416000</td>\n",
       "      <td>7530</td>\n",
       "      <td>-4554</td>\n",
       "      <td>2020-02-23</td>\n",
       "    </tr>\n",
       "    <tr>\n",
       "      <th>3</th>\n",
       "      <td>1583020800</td>\n",
       "      <td>11295</td>\n",
       "      <td>-12380</td>\n",
       "      <td>2020-03-01</td>\n",
       "    </tr>\n",
       "    <tr>\n",
       "      <th>4</th>\n",
       "      <td>1583625600</td>\n",
       "      <td>20046</td>\n",
       "      <td>-17739</td>\n",
       "      <td>2020-03-08</td>\n",
       "    </tr>\n",
       "  </tbody>\n",
       "</table>\n",
       "</div>"
      ],
      "text/plain": [
       "            1   Adds   Subs        Date\n",
       "0  1581206400  13549 -10213  2020-02-09\n",
       "1  1581811200   8296  -7308  2020-02-16\n",
       "2  1582416000   7530  -4554  2020-02-23\n",
       "3  1583020800  11295 -12380  2020-03-01\n",
       "4  1583625600  20046 -17739  2020-03-08"
      ]
     },
     "execution_count": 3,
     "metadata": {},
     "output_type": "execute_result"
    }
   ],
   "source": [
    "df = pd.read_csv('Covid-19 repo.csv')\n",
    "df.head()"
   ]
  },
  {
   "cell_type": "code",
   "execution_count": 4,
   "metadata": {},
   "outputs": [
    {
     "name": "stdout",
     "output_type": "stream",
     "text": [
      "<class 'pandas.core.frame.DataFrame'>\n",
      "RangeIndex: 111 entries, 0 to 110\n",
      "Data columns (total 4 columns):\n",
      " #   Column  Non-Null Count  Dtype \n",
      "---  ------  --------------  ----- \n",
      " 0   1       111 non-null    int64 \n",
      " 1   Adds    111 non-null    int64 \n",
      " 2   Subs    111 non-null    int64 \n",
      " 3   Date    111 non-null    object\n",
      "dtypes: int64(3), object(1)\n",
      "memory usage: 3.6+ KB\n"
     ]
    }
   ],
   "source": [
    "df.info()"
   ]
  },
  {
   "cell_type": "code",
   "execution_count": 5,
   "metadata": {},
   "outputs": [
    {
     "name": "stdout",
     "output_type": "stream",
     "text": [
      "              1    Adds    Subs       Date\n",
      "0    1581206400   13549  -10213 2020-02-09\n",
      "1    1581811200    8296   -7308 2020-02-16\n",
      "2    1582416000    7530   -4554 2020-02-23\n",
      "3    1583020800   11295  -12380 2020-03-01\n",
      "4    1583625600   20046  -17739 2020-03-08\n",
      "..          ...     ...     ...        ...\n",
      "106  1645315200  120424  -91617 2022-02-20\n",
      "107  1645920000  126064  -97225 2022-02-27\n",
      "108  1646524800  220223 -191616 2022-03-06\n",
      "109  1647129600  138950 -110119 2022-03-13\n",
      "110  1647734400   70600  -46058 2022-03-20\n",
      "\n",
      "[111 rows x 4 columns]\n",
      "\n",
      "1                int64\n",
      "Adds             int64\n",
      "Subs             int64\n",
      "Date    datetime64[ns]\n",
      "dtype: object\n"
     ]
    }
   ],
   "source": [
    "df['Date']=pd.to_datetime(df['Date'])\n",
    "print(df)\n",
    "print()\n",
    "print(df.dtypes)"
   ]
  },
  {
   "cell_type": "code",
   "execution_count": 6,
   "metadata": {},
   "outputs": [
    {
     "name": "stdout",
     "output_type": "stream",
     "text": [
      "1       179206214400\n",
      "Adds        12813987\n",
      "Subs        -9819073\n",
      "dtype: int64\n"
     ]
    },
    {
     "name": "stderr",
     "output_type": "stream",
     "text": [
      "C:\\Users\\Jahnavi Jaitly\\AppData\\Local\\Temp\\ipykernel_4240\\295290147.py:1: FutureWarning: Dropping of nuisance columns in DataFrame reductions (with 'numeric_only=None') is deprecated; in a future version this will raise TypeError.  Select only valid columns before calling the reduction.\n",
      "  sum_of_cols=df.sum(axis=0)\n"
     ]
    }
   ],
   "source": [
    "sum_of_cols=df.sum(axis=0)\n",
    "print(sum_of_cols)"
   ]
  },
  {
   "cell_type": "code",
   "execution_count": 12,
   "metadata": {},
   "outputs": [],
   "source": [
    "import matplotlib.pyplot as plt\n",
    "from matplotlib import dates as mpl_dates\n",
    "import datetime\n",
    "from datetime import datetime,timedelta\n",
    "#from sklearn.linear_model import LinearRegression\n",
    "import seaborn as sns\n",
    "sns.set()"
   ]
  },
  {
   "cell_type": "code",
   "execution_count": 8,
   "metadata": {},
   "outputs": [],
   "source": [
    "df['Date']=pd.to_datetime(df['Date'],format='%Y-%m-%d %I-%p')"
   ]
  },
  {
   "cell_type": "code",
   "execution_count": 9,
   "metadata": {},
   "outputs": [
    {
     "data": {
      "text/plain": [
       "0     2020-02-09\n",
       "1     2020-02-16\n",
       "2     2020-02-23\n",
       "3     2020-03-01\n",
       "4     2020-03-08\n",
       "         ...    \n",
       "106   2022-02-20\n",
       "107   2022-02-27\n",
       "108   2022-03-06\n",
       "109   2022-03-13\n",
       "110   2022-03-20\n",
       "Name: Date, Length: 111, dtype: datetime64[ns]"
      ]
     },
     "execution_count": 9,
     "metadata": {},
     "output_type": "execute_result"
    }
   ],
   "source": [
    "df['Date']"
   ]
  },
  {
   "cell_type": "code",
   "execution_count": 17,
   "metadata": {},
   "outputs": [],
   "source": [
    "commit_date= df['Date']\n",
    "Adds_repo= df['Adds']"
   ]
  },
  {
   "cell_type": "code",
   "execution_count": 21,
   "metadata": {},
   "outputs": [
    {
     "data": {
      "text/plain": [
       "[<matplotlib.lines.Line2D at 0x2bc39f95490>]"
      ]
     },
     "execution_count": 21,
     "metadata": {},
     "output_type": "execute_result"
    },
    {
     "data": {
      "image/png": "[encoded data removed]",
      "text/plain": [
       "<Figure size 576x396 with 1 Axes>"
      ]
     },
     "metadata": {},
     "output_type": "display_data"
    }
   ],
   "source": [
    "plt.style.use('seaborn')\n",
    "plt.plot_date(commit_date,Adds_repo,linestyle='solid')"
   ]
  }
 ],
 "metadata": {
  "interpreter": {
   "hash": "3f2443ec8f59afe4c1f979fe6a98a2049923812911b3d6b7fe9aa51d15556073"
  },
  "kernelspec": {
   "display_name": "Python 3.9.10 64-bit (windows store)",
   "language": "python",
   "name": "python3"
  },
  "language_info": {
   "codemirror_mode": {
    "name": "ipython",
    "version": 3
   },
   "file_extension": ".py",
   "mimetype": "text/x-python",
   "name": "python",
   "nbconvert_exporter": "python",
   "pygments_lexer": "ipython3",
   "version": "3.9.4"
  },
  "orig_nbformat": 4
 },
 "nbformat": 4,
 "nbformat_minor": 2
}
