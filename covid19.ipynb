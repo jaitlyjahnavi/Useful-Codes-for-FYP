{
 "cells": [
  {
   "cell_type": "code",
   "execution_count": 1,
   "metadata": {},
   "outputs": [],
   "source": [
    "import numpy as np # linear algebra\n",
    "import pandas as pd # data processing, CSV file I/O (e.g. pd.read_csv)"
   ]
  },
  {
   "cell_type": "code",
   "execution_count": null,
   "metadata": {},
   "outputs": [],
   "source": [
    "#EXP4. Comparing it with COVID-19 specific repos"
   ]
  },
  {
   "cell_type": "code",
   "execution_count": 26,
   "metadata": {},
   "outputs": [
    {
     "data": {
      "text/html": [
       "<div>\n",
       "<style scoped>\n",
       "    .dataframe tbody tr th:only-of-type {\n",
       "        vertical-align: middle;\n",
       "    }\n",
       "\n",
       "    .dataframe tbody tr th {\n",
       "        vertical-align: top;\n",
       "    }\n",
       "\n",
       "    .dataframe thead th {\n",
       "        text-align: right;\n",
       "    }\n",
       "</style>\n",
       "<table border=\"1\" class=\"dataframe\">\n",
       "  <thead>\n",
       "    <tr style=\"text-align: right;\">\n",
       "      <th></th>\n",
       "      <th>1</th>\n",
       "      <th>Adds</th>\n",
       "      <th>Subs</th>\n",
       "      <th>Date</th>\n",
       "    </tr>\n",
       "  </thead>\n",
       "  <tbody>\n",
       "    <tr>\n",
       "      <th>0</th>\n",
       "      <td>1581206400</td>\n",
       "      <td>13549</td>\n",
       "      <td>-10213</td>\n",
       "      <td>09/02/2020</td>\n",
       "    </tr>\n",
       "    <tr>\n",
       "      <th>1</th>\n",
       "      <td>1581811200</td>\n",
       "      <td>8296</td>\n",
       "      <td>-7308</td>\n",
       "      <td>16/02/2020</td>\n",
       "    </tr>\n",
       "    <tr>\n",
       "      <th>2</th>\n",
       "      <td>1582416000</td>\n",
       "      <td>7530</td>\n",
       "      <td>-4554</td>\n",
       "      <td>23/02/2020</td>\n",
       "    </tr>\n",
       "    <tr>\n",
       "      <th>3</th>\n",
       "      <td>1583020800</td>\n",
       "      <td>11295</td>\n",
       "      <td>-12380</td>\n",
       "      <td>01/03/2020</td>\n",
       "    </tr>\n",
       "    <tr>\n",
       "      <th>4</th>\n",
       "      <td>1583625600</td>\n",
       "      <td>20046</td>\n",
       "      <td>-17739</td>\n",
       "      <td>08/03/2020</td>\n",
       "    </tr>\n",
       "  </tbody>\n",
       "</table>\n",
       "</div>"
      ],
      "text/plain": [
       "            1   Adds   Subs        Date\n",
       "0  1581206400  13549 -10213  09/02/2020\n",
       "1  1581811200   8296  -7308  16/02/2020\n",
       "2  1582416000   7530  -4554  23/02/2020\n",
       "3  1583020800  11295 -12380  01/03/2020\n",
       "4  1583625600  20046 -17739  08/03/2020"
      ]
     },
     "execution_count": 26,
     "metadata": {},
     "output_type": "execute_result"
    }
   ],
   "source": [
    "df = pd.read_csv('Covid-19 repo.csv')\n",
    "df.head()"
   ]
  },
  {
   "cell_type": "code",
   "execution_count": 27,
   "metadata": {},
   "outputs": [
    {
     "name": "stdout",
     "output_type": "stream",
     "text": [
      "<class 'pandas.core.frame.DataFrame'>\n",
      "RangeIndex: 99 entries, 0 to 98\n",
      "Data columns (total 4 columns):\n",
      " #   Column  Non-Null Count  Dtype \n",
      "---  ------  --------------  ----- \n",
      " 0   1       99 non-null     int64 \n",
      " 1   Adds    99 non-null     int64 \n",
      " 2   Subs    99 non-null     int64 \n",
      " 3   Date    99 non-null     object\n",
      "dtypes: int64(3), object(1)\n",
      "memory usage: 3.2+ KB\n"
     ]
    }
   ],
   "source": [
    "df.info()"
   ]
  },
  {
   "cell_type": "code",
   "execution_count": 28,
   "metadata": {},
   "outputs": [
    {
     "name": "stdout",
     "output_type": "stream",
     "text": [
      "             1     Adds     Subs       Date\n",
      "0   1581206400    13549   -10213 2020-09-02\n",
      "1   1581811200     8296    -7308 2020-02-16\n",
      "2   1582416000     7530    -4554 2020-02-23\n",
      "3   1583020800    11295   -12380 2020-01-03\n",
      "4   1583625600    20046   -17739 2020-08-03\n",
      "..         ...      ...      ...        ...\n",
      "94  1638057600    96538   -67748 2021-11-28\n",
      "95  1638662400  1104891 -1076314 2021-05-12\n",
      "96  1639267200    86152   -57608 2021-12-12\n",
      "97  1639872000   147424  -118906 2021-12-19\n",
      "98  1640476800   119662   -91189 2021-12-26\n",
      "\n",
      "[99 rows x 4 columns]\n",
      "\n",
      "1                int64\n",
      "Adds             int64\n",
      "Subs             int64\n",
      "Date    datetime64[ns]\n",
      "dtype: object\n"
     ]
    },
    {
     "name": "stderr",
     "output_type": "stream",
     "text": [
      "C:\\Users\\Jahnavi Jaitly\\AppData\\Local\\Temp\\ipykernel_23704\\1437625883.py:1: UserWarning: Parsing '16/02/2020' in DD/MM/YYYY format. Provide format or specify infer_datetime_format=True for consistent parsing.\n",
      "  df['Date']=pd.to_datetime(df['Date'])\n",
      "C:\\Users\\Jahnavi Jaitly\\AppData\\Local\\Temp\\ipykernel_23704\\1437625883.py:1: UserWarning: Parsing '23/02/2020' in DD/MM/YYYY format. Provide format or specify infer_datetime_format=True for consistent parsing.\n",
      "  df['Date']=pd.to_datetime(df['Date'])\n",
      "C:\\Users\\Jahnavi Jaitly\\AppData\\Local\\Temp\\ipykernel_23704\\1437625883.py:1: UserWarning: Parsing '15/03/2020' in DD/MM/YYYY format. Provide format or specify infer_datetime_format=True for consistent parsing.\n",
      "  df['Date']=pd.to_datetime(df['Date'])\n",
      "C:\\Users\\Jahnavi Jaitly\\AppData\\Local\\Temp\\ipykernel_23704\\1437625883.py:1: UserWarning: Parsing '22/03/2020' in DD/MM/YYYY format. Provide format or specify infer_datetime_format=True for consistent parsing.\n",
      "  df['Date']=pd.to_datetime(df['Date'])\n",
      "C:\\Users\\Jahnavi Jaitly\\AppData\\Local\\Temp\\ipykernel_23704\\1437625883.py:1: UserWarning: Parsing '29/03/2020' in DD/MM/YYYY format. Provide format or specify infer_datetime_format=True for consistent parsing.\n",
      "  df['Date']=pd.to_datetime(df['Date'])\n",
      "C:\\Users\\Jahnavi Jaitly\\AppData\\Local\\Temp\\ipykernel_23704\\1437625883.py:1: UserWarning: Parsing '19/04/2020' in DD/MM/YYYY format. Provide format or specify infer_datetime_format=True for consistent parsing.\n",
      "  df['Date']=pd.to_datetime(df['Date'])\n",
      "C:\\Users\\Jahnavi Jaitly\\AppData\\Local\\Temp\\ipykernel_23704\\1437625883.py:1: UserWarning: Parsing '26/04/2020' in DD/MM/YYYY format. Provide format or specify infer_datetime_format=True for consistent parsing.\n",
      "  df['Date']=pd.to_datetime(df['Date'])\n",
      "C:\\Users\\Jahnavi Jaitly\\AppData\\Local\\Temp\\ipykernel_23704\\1437625883.py:1: UserWarning: Parsing '17/05/2020' in DD/MM/YYYY format. Provide format or specify infer_datetime_format=True for consistent parsing.\n",
      "  df['Date']=pd.to_datetime(df['Date'])\n",
      "C:\\Users\\Jahnavi Jaitly\\AppData\\Local\\Temp\\ipykernel_23704\\1437625883.py:1: UserWarning: Parsing '24/05/2020' in DD/MM/YYYY format. Provide format or specify infer_datetime_format=True for consistent parsing.\n",
      "  df['Date']=pd.to_datetime(df['Date'])\n",
      "C:\\Users\\Jahnavi Jaitly\\AppData\\Local\\Temp\\ipykernel_23704\\1437625883.py:1: UserWarning: Parsing '31/05/2020' in DD/MM/YYYY format. Provide format or specify infer_datetime_format=True for consistent parsing.\n",
      "  df['Date']=pd.to_datetime(df['Date'])\n",
      "C:\\Users\\Jahnavi Jaitly\\AppData\\Local\\Temp\\ipykernel_23704\\1437625883.py:1: UserWarning: Parsing '14/06/2020' in DD/MM/YYYY format. Provide format or specify infer_datetime_format=True for consistent parsing.\n",
      "  df['Date']=pd.to_datetime(df['Date'])\n",
      "C:\\Users\\Jahnavi Jaitly\\AppData\\Local\\Temp\\ipykernel_23704\\1437625883.py:1: UserWarning: Parsing '21/06/2020' in DD/MM/YYYY format. Provide format or specify infer_datetime_format=True for consistent parsing.\n",
      "  df['Date']=pd.to_datetime(df['Date'])\n",
      "C:\\Users\\Jahnavi Jaitly\\AppData\\Local\\Temp\\ipykernel_23704\\1437625883.py:1: UserWarning: Parsing '28/06/2020' in DD/MM/YYYY format. Provide format or specify infer_datetime_format=True for consistent parsing.\n",
      "  df['Date']=pd.to_datetime(df['Date'])\n",
      "C:\\Users\\Jahnavi Jaitly\\AppData\\Local\\Temp\\ipykernel_23704\\1437625883.py:1: UserWarning: Parsing '19/07/2020' in DD/MM/YYYY format. Provide format or specify infer_datetime_format=True for consistent parsing.\n",
      "  df['Date']=pd.to_datetime(df['Date'])\n",
      "C:\\Users\\Jahnavi Jaitly\\AppData\\Local\\Temp\\ipykernel_23704\\1437625883.py:1: UserWarning: Parsing '26/07/2020' in DD/MM/YYYY format. Provide format or specify infer_datetime_format=True for consistent parsing.\n",
      "  df['Date']=pd.to_datetime(df['Date'])\n",
      "C:\\Users\\Jahnavi Jaitly\\AppData\\Local\\Temp\\ipykernel_23704\\1437625883.py:1: UserWarning: Parsing '16/08/2020' in DD/MM/YYYY format. Provide format or specify infer_datetime_format=True for consistent parsing.\n",
      "  df['Date']=pd.to_datetime(df['Date'])\n",
      "C:\\Users\\Jahnavi Jaitly\\AppData\\Local\\Temp\\ipykernel_23704\\1437625883.py:1: UserWarning: Parsing '23/08/2020' in DD/MM/YYYY format. Provide format or specify infer_datetime_format=True for consistent parsing.\n",
      "  df['Date']=pd.to_datetime(df['Date'])\n",
      "C:\\Users\\Jahnavi Jaitly\\AppData\\Local\\Temp\\ipykernel_23704\\1437625883.py:1: UserWarning: Parsing '30/08/2020' in DD/MM/YYYY format. Provide format or specify infer_datetime_format=True for consistent parsing.\n",
      "  df['Date']=pd.to_datetime(df['Date'])\n",
      "C:\\Users\\Jahnavi Jaitly\\AppData\\Local\\Temp\\ipykernel_23704\\1437625883.py:1: UserWarning: Parsing '13/09/2020' in DD/MM/YYYY format. Provide format or specify infer_datetime_format=True for consistent parsing.\n",
      "  df['Date']=pd.to_datetime(df['Date'])\n",
      "C:\\Users\\Jahnavi Jaitly\\AppData\\Local\\Temp\\ipykernel_23704\\1437625883.py:1: UserWarning: Parsing '20/09/2020' in DD/MM/YYYY format. Provide format or specify infer_datetime_format=True for consistent parsing.\n",
      "  df['Date']=pd.to_datetime(df['Date'])\n",
      "C:\\Users\\Jahnavi Jaitly\\AppData\\Local\\Temp\\ipykernel_23704\\1437625883.py:1: UserWarning: Parsing '27/09/2020' in DD/MM/YYYY format. Provide format or specify infer_datetime_format=True for consistent parsing.\n",
      "  df['Date']=pd.to_datetime(df['Date'])\n",
      "C:\\Users\\Jahnavi Jaitly\\AppData\\Local\\Temp\\ipykernel_23704\\1437625883.py:1: UserWarning: Parsing '18/10/2020' in DD/MM/YYYY format. Provide format or specify infer_datetime_format=True for consistent parsing.\n",
      "  df['Date']=pd.to_datetime(df['Date'])\n",
      "C:\\Users\\Jahnavi Jaitly\\AppData\\Local\\Temp\\ipykernel_23704\\1437625883.py:1: UserWarning: Parsing '25/10/2020' in DD/MM/YYYY format. Provide format or specify infer_datetime_format=True for consistent parsing.\n",
      "  df['Date']=pd.to_datetime(df['Date'])\n",
      "C:\\Users\\Jahnavi Jaitly\\AppData\\Local\\Temp\\ipykernel_23704\\1437625883.py:1: UserWarning: Parsing '15/11/2020' in DD/MM/YYYY format. Provide format or specify infer_datetime_format=True for consistent parsing.\n",
      "  df['Date']=pd.to_datetime(df['Date'])\n",
      "C:\\Users\\Jahnavi Jaitly\\AppData\\Local\\Temp\\ipykernel_23704\\1437625883.py:1: UserWarning: Parsing '22/11/2020' in DD/MM/YYYY format. Provide format or specify infer_datetime_format=True for consistent parsing.\n",
      "  df['Date']=pd.to_datetime(df['Date'])\n",
      "C:\\Users\\Jahnavi Jaitly\\AppData\\Local\\Temp\\ipykernel_23704\\1437625883.py:1: UserWarning: Parsing '29/11/2020' in DD/MM/YYYY format. Provide format or specify infer_datetime_format=True for consistent parsing.\n",
      "  df['Date']=pd.to_datetime(df['Date'])\n",
      "C:\\Users\\Jahnavi Jaitly\\AppData\\Local\\Temp\\ipykernel_23704\\1437625883.py:1: UserWarning: Parsing '13/12/2020' in DD/MM/YYYY format. Provide format or specify infer_datetime_format=True for consistent parsing.\n",
      "  df['Date']=pd.to_datetime(df['Date'])\n",
      "C:\\Users\\Jahnavi Jaitly\\AppData\\Local\\Temp\\ipykernel_23704\\1437625883.py:1: UserWarning: Parsing '20/12/2020' in DD/MM/YYYY format. Provide format or specify infer_datetime_format=True for consistent parsing.\n",
      "  df['Date']=pd.to_datetime(df['Date'])\n",
      "C:\\Users\\Jahnavi Jaitly\\AppData\\Local\\Temp\\ipykernel_23704\\1437625883.py:1: UserWarning: Parsing '27/12/2020' in DD/MM/YYYY format. Provide format or specify infer_datetime_format=True for consistent parsing.\n",
      "  df['Date']=pd.to_datetime(df['Date'])\n",
      "C:\\Users\\Jahnavi Jaitly\\AppData\\Local\\Temp\\ipykernel_23704\\1437625883.py:1: UserWarning: Parsing '17/01/2021' in DD/MM/YYYY format. Provide format or specify infer_datetime_format=True for consistent parsing.\n",
      "  df['Date']=pd.to_datetime(df['Date'])\n",
      "C:\\Users\\Jahnavi Jaitly\\AppData\\Local\\Temp\\ipykernel_23704\\1437625883.py:1: UserWarning: Parsing '24/01/2021' in DD/MM/YYYY format. Provide format or specify infer_datetime_format=True for consistent parsing.\n",
      "  df['Date']=pd.to_datetime(df['Date'])\n",
      "C:\\Users\\Jahnavi Jaitly\\AppData\\Local\\Temp\\ipykernel_23704\\1437625883.py:1: UserWarning: Parsing '31/01/2021' in DD/MM/YYYY format. Provide format or specify infer_datetime_format=True for consistent parsing.\n",
      "  df['Date']=pd.to_datetime(df['Date'])\n",
      "C:\\Users\\Jahnavi Jaitly\\AppData\\Local\\Temp\\ipykernel_23704\\1437625883.py:1: UserWarning: Parsing '14/02/2021' in DD/MM/YYYY format. Provide format or specify infer_datetime_format=True for consistent parsing.\n",
      "  df['Date']=pd.to_datetime(df['Date'])\n",
      "C:\\Users\\Jahnavi Jaitly\\AppData\\Local\\Temp\\ipykernel_23704\\1437625883.py:1: UserWarning: Parsing '21/02/2021' in DD/MM/YYYY format. Provide format or specify infer_datetime_format=True for consistent parsing.\n",
      "  df['Date']=pd.to_datetime(df['Date'])\n",
      "C:\\Users\\Jahnavi Jaitly\\AppData\\Local\\Temp\\ipykernel_23704\\1437625883.py:1: UserWarning: Parsing '28/02/2021' in DD/MM/YYYY format. Provide format or specify infer_datetime_format=True for consistent parsing.\n",
      "  df['Date']=pd.to_datetime(df['Date'])\n",
      "C:\\Users\\Jahnavi Jaitly\\AppData\\Local\\Temp\\ipykernel_23704\\1437625883.py:1: UserWarning: Parsing '14/03/2021' in DD/MM/YYYY format. Provide format or specify infer_datetime_format=True for consistent parsing.\n",
      "  df['Date']=pd.to_datetime(df['Date'])\n",
      "C:\\Users\\Jahnavi Jaitly\\AppData\\Local\\Temp\\ipykernel_23704\\1437625883.py:1: UserWarning: Parsing '21/03/2021' in DD/MM/YYYY format. Provide format or specify infer_datetime_format=True for consistent parsing.\n",
      "  df['Date']=pd.to_datetime(df['Date'])\n",
      "C:\\Users\\Jahnavi Jaitly\\AppData\\Local\\Temp\\ipykernel_23704\\1437625883.py:1: UserWarning: Parsing '28/03/2021' in DD/MM/YYYY format. Provide format or specify infer_datetime_format=True for consistent parsing.\n",
      "  df['Date']=pd.to_datetime(df['Date'])\n",
      "C:\\Users\\Jahnavi Jaitly\\AppData\\Local\\Temp\\ipykernel_23704\\1437625883.py:1: UserWarning: Parsing '18/04/2021' in DD/MM/YYYY format. Provide format or specify infer_datetime_format=True for consistent parsing.\n",
      "  df['Date']=pd.to_datetime(df['Date'])\n",
      "C:\\Users\\Jahnavi Jaitly\\AppData\\Local\\Temp\\ipykernel_23704\\1437625883.py:1: UserWarning: Parsing '25/04/2021' in DD/MM/YYYY format. Provide format or specify infer_datetime_format=True for consistent parsing.\n",
      "  df['Date']=pd.to_datetime(df['Date'])\n",
      "C:\\Users\\Jahnavi Jaitly\\AppData\\Local\\Temp\\ipykernel_23704\\1437625883.py:1: UserWarning: Parsing '16/05/2021' in DD/MM/YYYY format. Provide format or specify infer_datetime_format=True for consistent parsing.\n",
      "  df['Date']=pd.to_datetime(df['Date'])\n",
      "C:\\Users\\Jahnavi Jaitly\\AppData\\Local\\Temp\\ipykernel_23704\\1437625883.py:1: UserWarning: Parsing '23/05/2021' in DD/MM/YYYY format. Provide format or specify infer_datetime_format=True for consistent parsing.\n",
      "  df['Date']=pd.to_datetime(df['Date'])\n",
      "C:\\Users\\Jahnavi Jaitly\\AppData\\Local\\Temp\\ipykernel_23704\\1437625883.py:1: UserWarning: Parsing '30/05/2021' in DD/MM/YYYY format. Provide format or specify infer_datetime_format=True for consistent parsing.\n",
      "  df['Date']=pd.to_datetime(df['Date'])\n",
      "C:\\Users\\Jahnavi Jaitly\\AppData\\Local\\Temp\\ipykernel_23704\\1437625883.py:1: UserWarning: Parsing '13/06/2021' in DD/MM/YYYY format. Provide format or specify infer_datetime_format=True for consistent parsing.\n",
      "  df['Date']=pd.to_datetime(df['Date'])\n",
      "C:\\Users\\Jahnavi Jaitly\\AppData\\Local\\Temp\\ipykernel_23704\\1437625883.py:1: UserWarning: Parsing '20/06/2021' in DD/MM/YYYY format. Provide format or specify infer_datetime_format=True for consistent parsing.\n",
      "  df['Date']=pd.to_datetime(df['Date'])\n",
      "C:\\Users\\Jahnavi Jaitly\\AppData\\Local\\Temp\\ipykernel_23704\\1437625883.py:1: UserWarning: Parsing '27/06/2021' in DD/MM/YYYY format. Provide format or specify infer_datetime_format=True for consistent parsing.\n",
      "  df['Date']=pd.to_datetime(df['Date'])\n",
      "C:\\Users\\Jahnavi Jaitly\\AppData\\Local\\Temp\\ipykernel_23704\\1437625883.py:1: UserWarning: Parsing '18/07/2021' in DD/MM/YYYY format. Provide format or specify infer_datetime_format=True for consistent parsing.\n",
      "  df['Date']=pd.to_datetime(df['Date'])\n",
      "C:\\Users\\Jahnavi Jaitly\\AppData\\Local\\Temp\\ipykernel_23704\\1437625883.py:1: UserWarning: Parsing '25/07/2021' in DD/MM/YYYY format. Provide format or specify infer_datetime_format=True for consistent parsing.\n",
      "  df['Date']=pd.to_datetime(df['Date'])\n",
      "C:\\Users\\Jahnavi Jaitly\\AppData\\Local\\Temp\\ipykernel_23704\\1437625883.py:1: UserWarning: Parsing '15/08/2021' in DD/MM/YYYY format. Provide format or specify infer_datetime_format=True for consistent parsing.\n",
      "  df['Date']=pd.to_datetime(df['Date'])\n",
      "C:\\Users\\Jahnavi Jaitly\\AppData\\Local\\Temp\\ipykernel_23704\\1437625883.py:1: UserWarning: Parsing '22/08/2021' in DD/MM/YYYY format. Provide format or specify infer_datetime_format=True for consistent parsing.\n",
      "  df['Date']=pd.to_datetime(df['Date'])\n",
      "C:\\Users\\Jahnavi Jaitly\\AppData\\Local\\Temp\\ipykernel_23704\\1437625883.py:1: UserWarning: Parsing '29/08/2021' in DD/MM/YYYY format. Provide format or specify infer_datetime_format=True for consistent parsing.\n",
      "  df['Date']=pd.to_datetime(df['Date'])\n",
      "C:\\Users\\Jahnavi Jaitly\\AppData\\Local\\Temp\\ipykernel_23704\\1437625883.py:1: UserWarning: Parsing '19/09/2021' in DD/MM/YYYY format. Provide format or specify infer_datetime_format=True for consistent parsing.\n",
      "  df['Date']=pd.to_datetime(df['Date'])\n",
      "C:\\Users\\Jahnavi Jaitly\\AppData\\Local\\Temp\\ipykernel_23704\\1437625883.py:1: UserWarning: Parsing '26/09/2021' in DD/MM/YYYY format. Provide format or specify infer_datetime_format=True for consistent parsing.\n",
      "  df['Date']=pd.to_datetime(df['Date'])\n",
      "C:\\Users\\Jahnavi Jaitly\\AppData\\Local\\Temp\\ipykernel_23704\\1437625883.py:1: UserWarning: Parsing '17/10/2021' in DD/MM/YYYY format. Provide format or specify infer_datetime_format=True for consistent parsing.\n",
      "  df['Date']=pd.to_datetime(df['Date'])\n",
      "C:\\Users\\Jahnavi Jaitly\\AppData\\Local\\Temp\\ipykernel_23704\\1437625883.py:1: UserWarning: Parsing '24/10/2021' in DD/MM/YYYY format. Provide format or specify infer_datetime_format=True for consistent parsing.\n",
      "  df['Date']=pd.to_datetime(df['Date'])\n",
      "C:\\Users\\Jahnavi Jaitly\\AppData\\Local\\Temp\\ipykernel_23704\\1437625883.py:1: UserWarning: Parsing '31/10/2021' in DD/MM/YYYY format. Provide format or specify infer_datetime_format=True for consistent parsing.\n",
      "  df['Date']=pd.to_datetime(df['Date'])\n",
      "C:\\Users\\Jahnavi Jaitly\\AppData\\Local\\Temp\\ipykernel_23704\\1437625883.py:1: UserWarning: Parsing '14/11/2021' in DD/MM/YYYY format. Provide format or specify infer_datetime_format=True for consistent parsing.\n",
      "  df['Date']=pd.to_datetime(df['Date'])\n",
      "C:\\Users\\Jahnavi Jaitly\\AppData\\Local\\Temp\\ipykernel_23704\\1437625883.py:1: UserWarning: Parsing '21/11/2021' in DD/MM/YYYY format. Provide format or specify infer_datetime_format=True for consistent parsing.\n",
      "  df['Date']=pd.to_datetime(df['Date'])\n",
      "C:\\Users\\Jahnavi Jaitly\\AppData\\Local\\Temp\\ipykernel_23704\\1437625883.py:1: UserWarning: Parsing '28/11/2021' in DD/MM/YYYY format. Provide format or specify infer_datetime_format=True for consistent parsing.\n",
      "  df['Date']=pd.to_datetime(df['Date'])\n",
      "C:\\Users\\Jahnavi Jaitly\\AppData\\Local\\Temp\\ipykernel_23704\\1437625883.py:1: UserWarning: Parsing '19/12/2021' in DD/MM/YYYY format. Provide format or specify infer_datetime_format=True for consistent parsing.\n",
      "  df['Date']=pd.to_datetime(df['Date'])\n",
      "C:\\Users\\Jahnavi Jaitly\\AppData\\Local\\Temp\\ipykernel_23704\\1437625883.py:1: UserWarning: Parsing '26/12/2021' in DD/MM/YYYY format. Provide format or specify infer_datetime_format=True for consistent parsing.\n",
      "  df['Date']=pd.to_datetime(df['Date'])\n"
     ]
    }
   ],
   "source": [
    "df['Date']=pd.to_datetime(df['Date'])\n",
    "print(df)\n",
    "print()\n",
    "print(df.dtypes)"
   ]
  },
  {
   "cell_type": "code",
   "execution_count": 29,
   "metadata": {},
   "outputs": [
    {
     "name": "stdout",
     "output_type": "stream",
     "text": [
      "1       159473318400\n",
      "Adds        10854458\n",
      "Subs        -8202426\n",
      "dtype: int64\n"
     ]
    },
    {
     "name": "stderr",
     "output_type": "stream",
     "text": [
      "C:\\Users\\Jahnavi Jaitly\\AppData\\Local\\Temp\\ipykernel_23704\\295290147.py:1: FutureWarning: Dropping of nuisance columns in DataFrame reductions (with 'numeric_only=None') is deprecated; in a future version this will raise TypeError.  Select only valid columns before calling the reduction.\n",
      "  sum_of_cols=df.sum(axis=0)\n"
     ]
    }
   ],
   "source": [
    "sum_of_cols=df.sum(axis=0)\n",
    "print(sum_of_cols)"
   ]
  },
  {
   "cell_type": "code",
   "execution_count": 30,
   "metadata": {},
   "outputs": [],
   "source": [
    "import matplotlib.pyplot as plt\n",
    "from matplotlib import dates as mpl_dates\n",
    "import datetime\n",
    "from datetime import datetime,timedelta\n",
    "#from sklearn.linear_model import LinearRegression\n",
    "import seaborn as sns\n",
    "sns.set()"
   ]
  },
  {
   "cell_type": "code",
   "execution_count": 31,
   "metadata": {},
   "outputs": [],
   "source": [
    "df['Date']=pd.to_datetime(df['Date'],format='%Y-%m-%d %I-%p')"
   ]
  },
  {
   "cell_type": "code",
   "execution_count": 32,
   "metadata": {},
   "outputs": [
    {
     "data": {
      "text/plain": [
       "0    2020-09-02\n",
       "1    2020-02-16\n",
       "2    2020-02-23\n",
       "3    2020-01-03\n",
       "4    2020-08-03\n",
       "        ...    \n",
       "94   2021-11-28\n",
       "95   2021-05-12\n",
       "96   2021-12-12\n",
       "97   2021-12-19\n",
       "98   2021-12-26\n",
       "Name: Date, Length: 99, dtype: datetime64[ns]"
      ]
     },
     "execution_count": 32,
     "metadata": {},
     "output_type": "execute_result"
    }
   ],
   "source": [
    "df['Date']"
   ]
  },
  {
   "cell_type": "code",
   "execution_count": 33,
   "metadata": {},
   "outputs": [],
   "source": [
    "commit_date= df['Date']\n",
    "Adds_repo= df['Adds']"
   ]
  },
  {
   "cell_type": "code",
   "execution_count": 34,
   "metadata": {},
   "outputs": [
    {
     "data": {
      "text/plain": [
       "<function matplotlib.pyplot.tight_layout(*, pad=1.08, h_pad=None, w_pad=None, rect=None)>"
      ]
     },
     "execution_count": 34,
     "metadata": {},
     "output_type": "execute_result"
    },
    {
     "data": {
      "image/png": "[encoded data removed]",
      "text/plain": [
       "<Figure size 576x396 with 1 Axes>"
      ]
     },
     "metadata": {},
     "output_type": "display_data"
    }
   ],
   "source": [
    "plt.style.use('seaborn')\n",
    "plt.plot_date(commit_date,Adds_repo,linestyle='solid')\n",
    "plt.gcf().autofmt_xdate()\n",
    "plt.title('covid19')\n",
    "plt.xlabel('Dates')\n",
    "plt.ylabel('No.of Additions')\n",
    "plt.tight_layout"
   ]
  },
  {
   "cell_type": "code",
   "execution_count": 13,
   "metadata": {},
   "outputs": [
    {
     "data": {
      "text/html": [
       "<div>\n",
       "<style scoped>\n",
       "    .dataframe tbody tr th:only-of-type {\n",
       "        vertical-align: middle;\n",
       "    }\n",
       "\n",
       "    .dataframe tbody tr th {\n",
       "        vertical-align: top;\n",
       "    }\n",
       "\n",
       "    .dataframe thead th {\n",
       "        text-align: right;\n",
       "    }\n",
       "</style>\n",
       "<table border=\"1\" class=\"dataframe\">\n",
       "  <thead>\n",
       "    <tr style=\"text-align: right;\">\n",
       "      <th></th>\n",
       "      <th>Weeks</th>\n",
       "      <th>Adds</th>\n",
       "      <th>Subs</th>\n",
       "      <th>Year</th>\n",
       "      <th>Date</th>\n",
       "    </tr>\n",
       "  </thead>\n",
       "  <tbody>\n",
       "    <tr>\n",
       "      <th>0</th>\n",
       "      <td>1601164800</td>\n",
       "      <td>17712</td>\n",
       "      <td>-14464</td>\n",
       "      <td>2020</td>\n",
       "      <td>2020-09-27</td>\n",
       "    </tr>\n",
       "    <tr>\n",
       "      <th>1</th>\n",
       "      <td>1601769600</td>\n",
       "      <td>15950</td>\n",
       "      <td>-15942</td>\n",
       "      <td>2020</td>\n",
       "      <td>2020-10-04</td>\n",
       "    </tr>\n",
       "    <tr>\n",
       "      <th>2</th>\n",
       "      <td>1602374400</td>\n",
       "      <td>10878</td>\n",
       "      <td>-10878</td>\n",
       "      <td>2020</td>\n",
       "      <td>2020-10-11</td>\n",
       "    </tr>\n",
       "    <tr>\n",
       "      <th>3</th>\n",
       "      <td>1602979200</td>\n",
       "      <td>10848</td>\n",
       "      <td>-10847</td>\n",
       "      <td>2020</td>\n",
       "      <td>2020-10-18</td>\n",
       "    </tr>\n",
       "    <tr>\n",
       "      <th>4</th>\n",
       "      <td>1603584000</td>\n",
       "      <td>21532</td>\n",
       "      <td>-21531</td>\n",
       "      <td>2020</td>\n",
       "      <td>2020-10-25</td>\n",
       "    </tr>\n",
       "  </tbody>\n",
       "</table>\n",
       "</div>"
      ],
      "text/plain": [
       "        Weeks   Adds   Subs  Year        Date\n",
       "0  1601164800  17712 -14464  2020  2020-09-27\n",
       "1  1601769600  15950 -15942  2020  2020-10-04\n",
       "2  1602374400  10878 -10878  2020  2020-10-11\n",
       "3  1602979200  10848 -10847  2020  2020-10-18\n",
       "4  1603584000  21532 -21531  2020  2020-10-25"
      ]
     },
     "execution_count": 13,
     "metadata": {},
     "output_type": "execute_result"
    }
   ],
   "source": [
    "df = pd.read_csv('who.csv')\n",
    "df.head()"
   ]
  },
  {
   "cell_type": "code",
   "execution_count": 14,
   "metadata": {},
   "outputs": [
    {
     "name": "stdout",
     "output_type": "stream",
     "text": [
      "Weeks                                         128355408000\n",
      "Adds                                               1759972\n",
      "Subs                                              -1753021\n",
      "Year                                                159658\n",
      "Date     2020-09-272020-10-042020-10-112020-10-182020-1...\n",
      "dtype: object\n"
     ]
    }
   ],
   "source": [
    "sum_of_cols=df.sum(axis=0)\n",
    "print(sum_of_cols)"
   ]
  },
  {
   "cell_type": "code",
   "execution_count": 15,
   "metadata": {},
   "outputs": [
    {
     "data": {
      "text/html": [
       "<div>\n",
       "<style scoped>\n",
       "    .dataframe tbody tr th:only-of-type {\n",
       "        vertical-align: middle;\n",
       "    }\n",
       "\n",
       "    .dataframe tbody tr th {\n",
       "        vertical-align: top;\n",
       "    }\n",
       "\n",
       "    .dataframe thead th {\n",
       "        text-align: right;\n",
       "    }\n",
       "</style>\n",
       "<table border=\"1\" class=\"dataframe\">\n",
       "  <thead>\n",
       "    <tr style=\"text-align: right;\">\n",
       "      <th></th>\n",
       "      <th>Adds</th>\n",
       "      <th>Year</th>\n",
       "    </tr>\n",
       "  </thead>\n",
       "  <tbody>\n",
       "    <tr>\n",
       "      <th>78</th>\n",
       "      <td>31232</td>\n",
       "      <td>2020</td>\n",
       "    </tr>\n",
       "    <tr>\n",
       "      <th>77</th>\n",
       "      <td>30608</td>\n",
       "      <td>2020</td>\n",
       "    </tr>\n",
       "    <tr>\n",
       "      <th>76</th>\n",
       "      <td>30110</td>\n",
       "      <td>2020</td>\n",
       "    </tr>\n",
       "    <tr>\n",
       "      <th>75</th>\n",
       "      <td>29733</td>\n",
       "      <td>2020</td>\n",
       "    </tr>\n",
       "    <tr>\n",
       "      <th>74</th>\n",
       "      <td>29645</td>\n",
       "      <td>2020</td>\n",
       "    </tr>\n",
       "    <tr>\n",
       "      <th>73</th>\n",
       "      <td>29474</td>\n",
       "      <td>2020</td>\n",
       "    </tr>\n",
       "    <tr>\n",
       "      <th>72</th>\n",
       "      <td>29196</td>\n",
       "      <td>2020</td>\n",
       "    </tr>\n",
       "    <tr>\n",
       "      <th>71</th>\n",
       "      <td>27544</td>\n",
       "      <td>2021</td>\n",
       "    </tr>\n",
       "    <tr>\n",
       "      <th>70</th>\n",
       "      <td>27522</td>\n",
       "      <td>2021</td>\n",
       "    </tr>\n",
       "    <tr>\n",
       "      <th>69</th>\n",
       "      <td>27490</td>\n",
       "      <td>2021</td>\n",
       "    </tr>\n",
       "  </tbody>\n",
       "</table>\n",
       "</div>"
      ],
      "text/plain": [
       "     Adds  Year\n",
       "78  31232  2020\n",
       "77  30608  2020\n",
       "76  30110  2020\n",
       "75  29733  2020\n",
       "74  29645  2020\n",
       "73  29474  2020\n",
       "72  29196  2020\n",
       "71  27544  2021\n",
       "70  27522  2021\n",
       "69  27490  2021"
      ]
     },
     "execution_count": 15,
     "metadata": {},
     "output_type": "execute_result"
    }
   ],
   "source": [
    "Adds_by_year_who = df.groupby(['Adds'])['Year'].sum().reset_index().sort_values('Adds', ascending=False)\n",
    "Adds_by_year_who.head(10)"
   ]
  },
  {
   "cell_type": "code",
   "execution_count": 17,
   "metadata": {},
   "outputs": [
    {
     "data": {
      "text/plain": [
       "Text(0.5, 0, 'Year')"
      ]
     },
     "execution_count": 17,
     "metadata": {},
     "output_type": "execute_result"
    },
    {
     "data": {
      "image/png": "[encoded data removed]",
      "text/plain": [
       "<Figure size 576x396 with 1 Axes>"
      ]
     },
     "metadata": {},
     "output_type": "display_data"
    }
   ],
   "source": [
    "plot_annual_pr = sns.barplot(data=Adds_by_year_who.query('Year < 2023 & Year > 2018'),x='Year',y='Adds',ci=None)\n",
    "plot_annual_pr.set_ylabel('Adds For Who-Covid19 App (10000)')\n",
    "plot_annual_pr.set_xlabel('Year')"
   ]
  },
  {
   "cell_type": "code",
   "execution_count": 18,
   "metadata": {},
   "outputs": [
    {
     "name": "stdout",
     "output_type": "stream",
     "text": [
      "         Weeks   Adds   Subs  Year       Date\n",
      "0   1601164800  17712 -14464  2020 2020-09-27\n",
      "1   1601769600  15950 -15942  2020 2020-10-04\n",
      "2   1602374400  10878 -10878  2020 2020-10-11\n",
      "3   1602979200  10848 -10847  2020 2020-10-18\n",
      "4   1603584000  21532 -21531  2020 2020-10-25\n",
      "..         ...    ...    ...   ...        ...\n",
      "74  1645920000  17783 -17783  2022 2022-02-27\n",
      "75  1646524800  18352 -18351  2022 2022-03-06\n",
      "76  1647129600  17892 -17892  2022 2022-03-13\n",
      "77  1647734400  17418 -17418  2022 2022-03-20\n",
      "78  1648339200   2994  -2994  2022 2022-03-27\n",
      "\n",
      "[79 rows x 5 columns]\n",
      "\n",
      "Weeks             int64\n",
      "Adds              int64\n",
      "Subs              int64\n",
      "Year              int64\n",
      "Date     datetime64[ns]\n",
      "dtype: object\n"
     ]
    }
   ],
   "source": [
    "df['Date']=pd.to_datetime(df['Date'])\n",
    "print(df)\n",
    "print()\n",
    "print(df.dtypes)"
   ]
  },
  {
   "cell_type": "code",
   "execution_count": 22,
   "metadata": {},
   "outputs": [],
   "source": [
    "commit_date_who= df['Date']\n",
    "Adds_repo_who= df['Adds']"
   ]
  },
  {
   "cell_type": "code",
   "execution_count": 20,
   "metadata": {},
   "outputs": [
    {
     "data": {
      "text/plain": [
       "<function matplotlib.pyplot.tight_layout(*, pad=1.08, h_pad=None, w_pad=None, rect=None)>"
      ]
     },
     "execution_count": 20,
     "metadata": {},
     "output_type": "execute_result"
    },
    {
     "data": {
      "image/png": "[encoded data removed]",
      "text/plain": [
       "<Figure size 576x396 with 1 Axes>"
      ]
     },
     "metadata": {},
     "output_type": "display_data"
    }
   ],
   "source": [
    "plt.style.use('seaborn')\n",
    "plt.plot_date(commit_date_who,Adds_repo_who,linestyle='solid')\n",
    "plt.gcf().autofmt_xdate()\n",
    "plt.title('WHO-Covid App')\n",
    "plt.xlabel('Dates')\n",
    "plt.ylabel('No.of Additions')\n",
    "plt.tight_layout"
   ]
  },
  {
   "cell_type": "code",
   "execution_count": 42,
   "metadata": {},
   "outputs": [
    {
     "data": {
      "text/html": [
       "<div>\n",
       "<style scoped>\n",
       "    .dataframe tbody tr th:only-of-type {\n",
       "        vertical-align: middle;\n",
       "    }\n",
       "\n",
       "    .dataframe tbody tr th {\n",
       "        vertical-align: top;\n",
       "    }\n",
       "\n",
       "    .dataframe thead th {\n",
       "        text-align: right;\n",
       "    }\n",
       "</style>\n",
       "<table border=\"1\" class=\"dataframe\">\n",
       "  <thead>\n",
       "    <tr style=\"text-align: right;\">\n",
       "      <th></th>\n",
       "      <th>Weeks</th>\n",
       "      <th>Adds</th>\n",
       "      <th>Subs</th>\n",
       "      <th>Year</th>\n",
       "      <th>Date</th>\n",
       "    </tr>\n",
       "  </thead>\n",
       "  <tbody>\n",
       "    <tr>\n",
       "      <th>0</th>\n",
       "      <td>1584230400</td>\n",
       "      <td>382759</td>\n",
       "      <td>-8594</td>\n",
       "      <td>2020</td>\n",
       "      <td>2020-03-15</td>\n",
       "    </tr>\n",
       "    <tr>\n",
       "      <th>1</th>\n",
       "      <td>1584835200</td>\n",
       "      <td>21688</td>\n",
       "      <td>-369099</td>\n",
       "      <td>2020</td>\n",
       "      <td>2020-03-22</td>\n",
       "    </tr>\n",
       "    <tr>\n",
       "      <th>2</th>\n",
       "      <td>1585440000</td>\n",
       "      <td>206840</td>\n",
       "      <td>-80742</td>\n",
       "      <td>2020</td>\n",
       "      <td>2020-03-29</td>\n",
       "    </tr>\n",
       "    <tr>\n",
       "      <th>3</th>\n",
       "      <td>1586044800</td>\n",
       "      <td>16767</td>\n",
       "      <td>-42463</td>\n",
       "      <td>2020</td>\n",
       "      <td>2020-04-05</td>\n",
       "    </tr>\n",
       "    <tr>\n",
       "      <th>4</th>\n",
       "      <td>1586649600</td>\n",
       "      <td>149852</td>\n",
       "      <td>-143565</td>\n",
       "      <td>2020</td>\n",
       "      <td>2020-04-12</td>\n",
       "    </tr>\n",
       "  </tbody>\n",
       "</table>\n",
       "</div>"
      ],
      "text/plain": [
       "        Weeks    Adds    Subs  Year        Date\n",
       "0  1584230400  382759   -8594  2020  2020-03-15\n",
       "1  1584835200   21688 -369099  2020  2020-03-22\n",
       "2  1585440000  206840  -80742  2020  2020-03-29\n",
       "3  1586044800   16767  -42463  2020  2020-04-05\n",
       "4  1586649600  149852 -143565  2020  2020-04-12"
      ]
     },
     "execution_count": 42,
     "metadata": {},
     "output_type": "execute_result"
    }
   ],
   "source": [
    "df = pd.read_csv('resultindia.csv')\n",
    "df.head()"
   ]
  },
  {
   "cell_type": "code",
   "execution_count": 43,
   "metadata": {},
   "outputs": [
    {
     "name": "stdout",
     "output_type": "stream",
     "text": [
      "Weeks                                         176240966400\n",
      "Adds                                               1090087\n",
      "Subs                                               -826461\n",
      "Year                                                220262\n",
      "Date     2020-03-152020-03-222020-03-292020-04-052020-0...\n",
      "dtype: object\n"
     ]
    }
   ],
   "source": [
    "sum_of_cols=df.sum(axis=0)\n",
    "print(sum_of_cols)"
   ]
  },
  {
   "cell_type": "code",
   "execution_count": 44,
   "metadata": {},
   "outputs": [
    {
     "data": {
      "text/html": [
       "<div>\n",
       "<style scoped>\n",
       "    .dataframe tbody tr th:only-of-type {\n",
       "        vertical-align: middle;\n",
       "    }\n",
       "\n",
       "    .dataframe tbody tr th {\n",
       "        vertical-align: top;\n",
       "    }\n",
       "\n",
       "    .dataframe thead th {\n",
       "        text-align: right;\n",
       "    }\n",
       "</style>\n",
       "<table border=\"1\" class=\"dataframe\">\n",
       "  <thead>\n",
       "    <tr style=\"text-align: right;\">\n",
       "      <th></th>\n",
       "      <th>Adds</th>\n",
       "      <th>Year</th>\n",
       "    </tr>\n",
       "  </thead>\n",
       "  <tbody>\n",
       "    <tr>\n",
       "      <th>45</th>\n",
       "      <td>382759</td>\n",
       "      <td>2020</td>\n",
       "    </tr>\n",
       "    <tr>\n",
       "      <th>44</th>\n",
       "      <td>206840</td>\n",
       "      <td>2020</td>\n",
       "    </tr>\n",
       "    <tr>\n",
       "      <th>43</th>\n",
       "      <td>149852</td>\n",
       "      <td>2020</td>\n",
       "    </tr>\n",
       "    <tr>\n",
       "      <th>42</th>\n",
       "      <td>129052</td>\n",
       "      <td>2020</td>\n",
       "    </tr>\n",
       "    <tr>\n",
       "      <th>41</th>\n",
       "      <td>44001</td>\n",
       "      <td>2020</td>\n",
       "    </tr>\n",
       "    <tr>\n",
       "      <th>40</th>\n",
       "      <td>37917</td>\n",
       "      <td>2020</td>\n",
       "    </tr>\n",
       "    <tr>\n",
       "      <th>39</th>\n",
       "      <td>24430</td>\n",
       "      <td>2021</td>\n",
       "    </tr>\n",
       "    <tr>\n",
       "      <th>38</th>\n",
       "      <td>21688</td>\n",
       "      <td>2020</td>\n",
       "    </tr>\n",
       "    <tr>\n",
       "      <th>37</th>\n",
       "      <td>16767</td>\n",
       "      <td>2020</td>\n",
       "    </tr>\n",
       "    <tr>\n",
       "      <th>36</th>\n",
       "      <td>15511</td>\n",
       "      <td>2021</td>\n",
       "    </tr>\n",
       "  </tbody>\n",
       "</table>\n",
       "</div>"
      ],
      "text/plain": [
       "      Adds  Year\n",
       "45  382759  2020\n",
       "44  206840  2020\n",
       "43  149852  2020\n",
       "42  129052  2020\n",
       "41   44001  2020\n",
       "40   37917  2020\n",
       "39   24430  2021\n",
       "38   21688  2020\n",
       "37   16767  2020\n",
       "36   15511  2021"
      ]
     },
     "execution_count": 44,
     "metadata": {},
     "output_type": "execute_result"
    }
   ],
   "source": [
    "Adds_by_year_new = df.groupby(['Adds'])['Year'].sum().reset_index().sort_values('Adds', ascending=False)\n",
    "Adds_by_year_new.head(10)"
   ]
  },
  {
   "cell_type": "code",
   "execution_count": 45,
   "metadata": {},
   "outputs": [
    {
     "data": {
      "text/plain": [
       "Text(0.5, 0, 'Year')"
      ]
     },
     "execution_count": 45,
     "metadata": {},
     "output_type": "execute_result"
    },
    {
     "data": {
      "image/png": "[encoded data removed]",
      "text/plain": [
       "<Figure size 576x396 with 1 Axes>"
      ]
     },
     "metadata": {},
     "output_type": "display_data"
    }
   ],
   "source": [
    "plot_annual_pr = sns.barplot(data=Adds_by_year_new.query('Year < 2023 & Year > 2018'),x='Year',y='Adds',ci=None)\n",
    "plot_annual_pr.set_ylabel('Adds For Covid-19 App (10000)')\n",
    "plot_annual_pr.set_xlabel('Year')"
   ]
  },
  {
   "cell_type": "code",
   "execution_count": 46,
   "metadata": {},
   "outputs": [
    {
     "name": "stdout",
     "output_type": "stream",
     "text": [
      "          Weeks    Adds    Subs  Year       Date\n",
      "0    1584230400  382759   -8594  2020 2020-03-15\n",
      "1    1584835200   21688 -369099  2020 2020-03-22\n",
      "2    1585440000  206840  -80742  2020 2020-03-29\n",
      "3    1586044800   16767  -42463  2020 2020-04-05\n",
      "4    1586649600  149852 -143565  2020 2020-04-12\n",
      "..          ...     ...     ...   ...        ...\n",
      "104  1647129600       0       0  2022 2022-03-13\n",
      "105  1647734400       0       0  2022 2022-03-20\n",
      "106  1648339200       0       0  2022 2022-03-27\n",
      "107  1648944000       0       0  2022 2022-04-03\n",
      "108  1649548800       0       0  2022 2022-04-10\n",
      "\n",
      "[109 rows x 5 columns]\n",
      "\n",
      "Weeks             int64\n",
      "Adds              int64\n",
      "Subs              int64\n",
      "Year              int64\n",
      "Date     datetime64[ns]\n",
      "dtype: object\n"
     ]
    }
   ],
   "source": [
    "df['Date']=pd.to_datetime(df['Date'])\n",
    "print(df)\n",
    "print()\n",
    "print(df.dtypes)"
   ]
  },
  {
   "cell_type": "code",
   "execution_count": 47,
   "metadata": {},
   "outputs": [],
   "source": [
    "commit_date_new= df['Date']\n",
    "Adds_repo_new= df['Adds']"
   ]
  },
  {
   "cell_type": "code",
   "execution_count": 49,
   "metadata": {},
   "outputs": [
    {
     "data": {
      "text/plain": [
       "<function matplotlib.pyplot.tight_layout(*, pad=1.08, h_pad=None, w_pad=None, rect=None)>"
      ]
     },
     "execution_count": 49,
     "metadata": {},
     "output_type": "execute_result"
    },
    {
     "data": {
      "image/png": "[encoded data removed]",
      "text/plain": [
       "<Figure size 576x396 with 1 Axes>"
      ]
     },
     "metadata": {},
     "output_type": "display_data"
    }
   ],
   "source": [
    "plt.style.use('seaborn')\n",
    "plt.plot_date(commit_date_new,Adds_repo_new,linestyle='solid')\n",
    "plt.gcf().autofmt_xdate()\n",
    "plt.title('Covid App-India')\n",
    "plt.xlabel('Dates')\n",
    "plt.ylabel('No.of Additions')\n",
    "plt.tight_layout"
   ]
  }
 ],
 "metadata": {
  "interpreter": {
   "hash": "3f2443ec8f59afe4c1f979fe6a98a2049923812911b3d6b7fe9aa51d15556073"
  },
  "kernelspec": {
   "display_name": "Python 3.9.10 64-bit (windows store)",
   "language": "python",
   "name": "python3"
  },
  "language_info": {
   "codemirror_mode": {
    "name": "ipython",
    "version": 3
   },
   "file_extension": ".py",
   "mimetype": "text/x-python",
   "name": "python",
   "nbconvert_exporter": "python",
   "pygments_lexer": "ipython3",
   "version": "3.9.4"
  },
  "orig_nbformat": 4
 },
 "nbformat": 4,
 "nbformat_minor": 2
}
