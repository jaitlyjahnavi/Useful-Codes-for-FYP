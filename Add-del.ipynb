{
 "cells": [
  {
   "cell_type": "code",
   "execution_count": 67,
   "metadata": {},
   "outputs": [],
   "source": [
    "import numpy as np # linear algebra\n",
    "import pandas as pd # data processing, CSV file I/O (e.g. pd.read_csv)"
   ]
  },
  {
   "cell_type": "code",
   "execution_count": null,
   "metadata": {},
   "outputs": [],
   "source": [
    "# using Rest API Metrix for Get the weekly commit activity got data for weeks adds and subs in\n",
    "#  unixtimestamp convert to datetime using formula and then save it in csv file to get the graph\n",
    "#E https://api.github.com/repos/neo4j/neo4j/stats/code_frequency\n",
    "# convert uniex to datetime: (A2/86400)+Date(1970,1,1)"
   ]
  },
  {
   "cell_type": "code",
   "execution_count": 122,
   "metadata": {},
   "outputs": [
    {
     "data": {
      "text/html": [
       "<div>\n",
       "<style scoped>\n",
       "    .dataframe tbody tr th:only-of-type {\n",
       "        vertical-align: middle;\n",
       "    }\n",
       "\n",
       "    .dataframe tbody tr th {\n",
       "        vertical-align: top;\n",
       "    }\n",
       "\n",
       "    .dataframe thead th {\n",
       "        text-align: right;\n",
       "    }\n",
       "</style>\n",
       "<table border=\"1\" class=\"dataframe\">\n",
       "  <thead>\n",
       "    <tr style=\"text-align: right;\">\n",
       "      <th></th>\n",
       "      <th>Weeks</th>\n",
       "      <th>Adds</th>\n",
       "      <th>Subs</th>\n",
       "      <th>Date</th>\n",
       "      <th>NewDate</th>\n",
       "    </tr>\n",
       "  </thead>\n",
       "  <tbody>\n",
       "    <tr>\n",
       "      <th>0</th>\n",
       "      <td>1546732800</td>\n",
       "      <td>29239</td>\n",
       "      <td>-26721</td>\n",
       "      <td>2019</td>\n",
       "      <td>2019-01-06</td>\n",
       "    </tr>\n",
       "    <tr>\n",
       "      <th>1</th>\n",
       "      <td>1547337600</td>\n",
       "      <td>82118</td>\n",
       "      <td>-77959</td>\n",
       "      <td>2019</td>\n",
       "      <td>2019-01-13</td>\n",
       "    </tr>\n",
       "    <tr>\n",
       "      <th>2</th>\n",
       "      <td>1547942400</td>\n",
       "      <td>146211</td>\n",
       "      <td>-143448</td>\n",
       "      <td>2019</td>\n",
       "      <td>2019-01-20</td>\n",
       "    </tr>\n",
       "    <tr>\n",
       "      <th>3</th>\n",
       "      <td>1548547200</td>\n",
       "      <td>18925</td>\n",
       "      <td>-27157</td>\n",
       "      <td>2019</td>\n",
       "      <td>2019-01-27</td>\n",
       "    </tr>\n",
       "    <tr>\n",
       "      <th>4</th>\n",
       "      <td>1549152000</td>\n",
       "      <td>12930</td>\n",
       "      <td>-10013</td>\n",
       "      <td>2019</td>\n",
       "      <td>2019-02-03</td>\n",
       "    </tr>\n",
       "  </tbody>\n",
       "</table>\n",
       "</div>"
      ],
      "text/plain": [
       "        Weeks    Adds    Subs  Date     NewDate\n",
       "0  1546732800   29239  -26721  2019  2019-01-06\n",
       "1  1547337600   82118  -77959  2019  2019-01-13\n",
       "2  1547942400  146211 -143448  2019  2019-01-20\n",
       "3  1548547200   18925  -27157  2019  2019-01-27\n",
       "4  1549152000   12930  -10013  2019  2019-02-03"
      ]
     },
     "execution_count": 122,
     "metadata": {},
     "output_type": "execute_result"
    }
   ],
   "source": [
    "# Reads Data for Neo4j from 2019-2022\n",
    "df = pd.read_csv('result_neo4j.csv')\n",
    "df.head()"
   ]
  },
  {
   "cell_type": "code",
   "execution_count": 123,
   "metadata": {},
   "outputs": [
    {
     "name": "stdout",
     "output_type": "stream",
     "text": [
      "<class 'pandas.core.frame.DataFrame'>\n",
      "RangeIndex: 156 entries, 0 to 155\n",
      "Data columns (total 5 columns):\n",
      " #   Column   Non-Null Count  Dtype \n",
      "---  ------   --------------  ----- \n",
      " 0   Weeks    156 non-null    int64 \n",
      " 1   Adds     156 non-null    int64 \n",
      " 2   Subs     156 non-null    int64 \n",
      " 3   Date     156 non-null    int64 \n",
      " 4   NewDate  156 non-null    object\n",
      "dtypes: int64(4), object(1)\n",
      "memory usage: 6.2+ KB\n"
     ]
    }
   ],
   "source": [
    "df.info()"
   ]
  },
  {
   "cell_type": "code",
   "execution_count": 124,
   "metadata": {},
   "outputs": [],
   "source": [
    "import matplotlib.pyplot as plt\n",
    "from matplotlib import dates as mpl_dates\n",
    "import datetime\n",
    "from datetime import datetime,timedelta\n",
    "#from sklearn.linear_model import LinearRegression\n",
    "import seaborn as sns\n",
    "sns.set()"
   ]
  },
  {
   "cell_type": "code",
   "execution_count": 125,
   "metadata": {},
   "outputs": [
    {
     "name": "stdout",
     "output_type": "stream",
     "text": [
      "Weeks                                           248602348800\n",
      "Adds                                                 2104467\n",
      "Subs                                                -1667137\n",
      "Date                                                  315120\n",
      "NewDate    2019-01-062019-01-132019-01-202019-01-272019-0...\n",
      "dtype: object\n"
     ]
    }
   ],
   "source": [
    "#Sum of Adds,Subs from 2019-2022\n",
    "sum_of_cols=df.sum(axis=0)\n",
    "print(sum_of_cols)"
   ]
  },
  {
   "cell_type": "code",
   "execution_count": 126,
   "metadata": {},
   "outputs": [],
   "source": [
    "import matplotlib.pyplot as plt\n",
    "#from sklearn.linear_model import LinearRegression\n",
    "import seaborn as sns\n",
    "sns.set()"
   ]
  },
  {
   "cell_type": "code",
   "execution_count": 127,
   "metadata": {},
   "outputs": [
    {
     "data": {
      "text/html": [
       "<div>\n",
       "<style scoped>\n",
       "    .dataframe tbody tr th:only-of-type {\n",
       "        vertical-align: middle;\n",
       "    }\n",
       "\n",
       "    .dataframe tbody tr th {\n",
       "        vertical-align: top;\n",
       "    }\n",
       "\n",
       "    .dataframe thead th {\n",
       "        text-align: right;\n",
       "    }\n",
       "</style>\n",
       "<table border=\"1\" class=\"dataframe\">\n",
       "  <thead>\n",
       "    <tr style=\"text-align: right;\">\n",
       "      <th></th>\n",
       "      <th>Weeks</th>\n",
       "      <th>Date</th>\n",
       "      <th>Adds</th>\n",
       "    </tr>\n",
       "  </thead>\n",
       "  <tbody>\n",
       "    <tr>\n",
       "      <th>2</th>\n",
       "      <td>1547942400</td>\n",
       "      <td>2019</td>\n",
       "      <td>146211</td>\n",
       "    </tr>\n",
       "    <tr>\n",
       "      <th>8</th>\n",
       "      <td>1551571200</td>\n",
       "      <td>2019</td>\n",
       "      <td>117110</td>\n",
       "    </tr>\n",
       "    <tr>\n",
       "      <th>1</th>\n",
       "      <td>1547337600</td>\n",
       "      <td>2019</td>\n",
       "      <td>82118</td>\n",
       "    </tr>\n",
       "    <tr>\n",
       "      <th>11</th>\n",
       "      <td>1553385600</td>\n",
       "      <td>2019</td>\n",
       "      <td>52630</td>\n",
       "    </tr>\n",
       "    <tr>\n",
       "      <th>47</th>\n",
       "      <td>1575158400</td>\n",
       "      <td>2019</td>\n",
       "      <td>52442</td>\n",
       "    </tr>\n",
       "    <tr>\n",
       "      <th>31</th>\n",
       "      <td>1565481600</td>\n",
       "      <td>2019</td>\n",
       "      <td>50436</td>\n",
       "    </tr>\n",
       "    <tr>\n",
       "      <th>7</th>\n",
       "      <td>1550966400</td>\n",
       "      <td>2019</td>\n",
       "      <td>46140</td>\n",
       "    </tr>\n",
       "    <tr>\n",
       "      <th>19</th>\n",
       "      <td>1558224000</td>\n",
       "      <td>2019</td>\n",
       "      <td>40347</td>\n",
       "    </tr>\n",
       "    <tr>\n",
       "      <th>48</th>\n",
       "      <td>1575763200</td>\n",
       "      <td>2019</td>\n",
       "      <td>39599</td>\n",
       "    </tr>\n",
       "    <tr>\n",
       "      <th>68</th>\n",
       "      <td>1587859200</td>\n",
       "      <td>2020</td>\n",
       "      <td>33376</td>\n",
       "    </tr>\n",
       "    <tr>\n",
       "      <th>23</th>\n",
       "      <td>1560643200</td>\n",
       "      <td>2019</td>\n",
       "      <td>31928</td>\n",
       "    </tr>\n",
       "    <tr>\n",
       "      <th>0</th>\n",
       "      <td>1546732800</td>\n",
       "      <td>2019</td>\n",
       "      <td>29239</td>\n",
       "    </tr>\n",
       "    <tr>\n",
       "      <th>24</th>\n",
       "      <td>1561248000</td>\n",
       "      <td>2019</td>\n",
       "      <td>29103</td>\n",
       "    </tr>\n",
       "    <tr>\n",
       "      <th>100</th>\n",
       "      <td>1607212800</td>\n",
       "      <td>2020</td>\n",
       "      <td>27567</td>\n",
       "    </tr>\n",
       "    <tr>\n",
       "      <th>53</th>\n",
       "      <td>1578787200</td>\n",
       "      <td>2020</td>\n",
       "      <td>26208</td>\n",
       "    </tr>\n",
       "    <tr>\n",
       "      <th>12</th>\n",
       "      <td>1553990400</td>\n",
       "      <td>2019</td>\n",
       "      <td>24168</td>\n",
       "    </tr>\n",
       "    <tr>\n",
       "      <th>6</th>\n",
       "      <td>1550361600</td>\n",
       "      <td>2019</td>\n",
       "      <td>20378</td>\n",
       "    </tr>\n",
       "    <tr>\n",
       "      <th>96</th>\n",
       "      <td>1604793600</td>\n",
       "      <td>2020</td>\n",
       "      <td>19596</td>\n",
       "    </tr>\n",
       "    <tr>\n",
       "      <th>26</th>\n",
       "      <td>1562457600</td>\n",
       "      <td>2019</td>\n",
       "      <td>19575</td>\n",
       "    </tr>\n",
       "    <tr>\n",
       "      <th>3</th>\n",
       "      <td>1548547200</td>\n",
       "      <td>2019</td>\n",
       "      <td>18925</td>\n",
       "    </tr>\n",
       "    <tr>\n",
       "      <th>104</th>\n",
       "      <td>1609632000</td>\n",
       "      <td>2021</td>\n",
       "      <td>18708</td>\n",
       "    </tr>\n",
       "    <tr>\n",
       "      <th>89</th>\n",
       "      <td>1600560000</td>\n",
       "      <td>2020</td>\n",
       "      <td>18581</td>\n",
       "    </tr>\n",
       "    <tr>\n",
       "      <th>49</th>\n",
       "      <td>1576368000</td>\n",
       "      <td>2019</td>\n",
       "      <td>18551</td>\n",
       "    </tr>\n",
       "    <tr>\n",
       "      <th>30</th>\n",
       "      <td>1564876800</td>\n",
       "      <td>2019</td>\n",
       "      <td>18406</td>\n",
       "    </tr>\n",
       "    <tr>\n",
       "      <th>121</th>\n",
       "      <td>1619913600</td>\n",
       "      <td>2021</td>\n",
       "      <td>18254</td>\n",
       "    </tr>\n",
       "  </tbody>\n",
       "</table>\n",
       "</div>"
      ],
      "text/plain": [
       "          Weeks  Date    Adds\n",
       "2    1547942400  2019  146211\n",
       "8    1551571200  2019  117110\n",
       "1    1547337600  2019   82118\n",
       "11   1553385600  2019   52630\n",
       "47   1575158400  2019   52442\n",
       "31   1565481600  2019   50436\n",
       "7    1550966400  2019   46140\n",
       "19   1558224000  2019   40347\n",
       "48   1575763200  2019   39599\n",
       "68   1587859200  2020   33376\n",
       "23   1560643200  2019   31928\n",
       "0    1546732800  2019   29239\n",
       "24   1561248000  2019   29103\n",
       "100  1607212800  2020   27567\n",
       "53   1578787200  2020   26208\n",
       "12   1553990400  2019   24168\n",
       "6    1550361600  2019   20378\n",
       "96   1604793600  2020   19596\n",
       "26   1562457600  2019   19575\n",
       "3    1548547200  2019   18925\n",
       "104  1609632000  2021   18708\n",
       "89   1600560000  2020   18581\n",
       "49   1576368000  2019   18551\n",
       "30   1564876800  2019   18406\n",
       "121  1619913600  2021   18254"
      ]
     },
     "execution_count": 127,
     "metadata": {},
     "output_type": "execute_result"
    }
   ],
   "source": [
    "name_and_year = df.groupby(['Weeks','Date'])\n",
    "sum_counts = name_and_year['Adds'].sum().reset_index().sort_values('Adds', ascending=False)\n",
    "sum_counts.head(25)"
   ]
  },
  {
   "cell_type": "code",
   "execution_count": 128,
   "metadata": {},
   "outputs": [
    {
     "data": {
      "text/html": [
       "<div>\n",
       "<style scoped>\n",
       "    .dataframe tbody tr th:only-of-type {\n",
       "        vertical-align: middle;\n",
       "    }\n",
       "\n",
       "    .dataframe tbody tr th {\n",
       "        vertical-align: top;\n",
       "    }\n",
       "\n",
       "    .dataframe thead th {\n",
       "        text-align: right;\n",
       "    }\n",
       "</style>\n",
       "<table border=\"1\" class=\"dataframe\">\n",
       "  <thead>\n",
       "    <tr style=\"text-align: right;\">\n",
       "      <th></th>\n",
       "      <th>Weeks</th>\n",
       "      <th>NewDate</th>\n",
       "      <th>Adds</th>\n",
       "    </tr>\n",
       "  </thead>\n",
       "  <tbody>\n",
       "    <tr>\n",
       "      <th>2</th>\n",
       "      <td>1547942400</td>\n",
       "      <td>2019-01-20</td>\n",
       "      <td>146211</td>\n",
       "    </tr>\n",
       "    <tr>\n",
       "      <th>8</th>\n",
       "      <td>1551571200</td>\n",
       "      <td>2019-03-03</td>\n",
       "      <td>117110</td>\n",
       "    </tr>\n",
       "    <tr>\n",
       "      <th>1</th>\n",
       "      <td>1547337600</td>\n",
       "      <td>2019-01-13</td>\n",
       "      <td>82118</td>\n",
       "    </tr>\n",
       "    <tr>\n",
       "      <th>11</th>\n",
       "      <td>1553385600</td>\n",
       "      <td>2019-03-24</td>\n",
       "      <td>52630</td>\n",
       "    </tr>\n",
       "    <tr>\n",
       "      <th>47</th>\n",
       "      <td>1575158400</td>\n",
       "      <td>2019-12-01</td>\n",
       "      <td>52442</td>\n",
       "    </tr>\n",
       "    <tr>\n",
       "      <th>31</th>\n",
       "      <td>1565481600</td>\n",
       "      <td>2019-08-11</td>\n",
       "      <td>50436</td>\n",
       "    </tr>\n",
       "    <tr>\n",
       "      <th>7</th>\n",
       "      <td>1550966400</td>\n",
       "      <td>2019-02-24</td>\n",
       "      <td>46140</td>\n",
       "    </tr>\n",
       "    <tr>\n",
       "      <th>19</th>\n",
       "      <td>1558224000</td>\n",
       "      <td>2019-05-19</td>\n",
       "      <td>40347</td>\n",
       "    </tr>\n",
       "    <tr>\n",
       "      <th>48</th>\n",
       "      <td>1575763200</td>\n",
       "      <td>2019-12-08</td>\n",
       "      <td>39599</td>\n",
       "    </tr>\n",
       "    <tr>\n",
       "      <th>68</th>\n",
       "      <td>1587859200</td>\n",
       "      <td>2020-04-26</td>\n",
       "      <td>33376</td>\n",
       "    </tr>\n",
       "    <tr>\n",
       "      <th>23</th>\n",
       "      <td>1560643200</td>\n",
       "      <td>2019-06-16</td>\n",
       "      <td>31928</td>\n",
       "    </tr>\n",
       "    <tr>\n",
       "      <th>0</th>\n",
       "      <td>1546732800</td>\n",
       "      <td>2019-01-06</td>\n",
       "      <td>29239</td>\n",
       "    </tr>\n",
       "    <tr>\n",
       "      <th>24</th>\n",
       "      <td>1561248000</td>\n",
       "      <td>2019-06-23</td>\n",
       "      <td>29103</td>\n",
       "    </tr>\n",
       "    <tr>\n",
       "      <th>100</th>\n",
       "      <td>1607212800</td>\n",
       "      <td>2020-12-06</td>\n",
       "      <td>27567</td>\n",
       "    </tr>\n",
       "    <tr>\n",
       "      <th>53</th>\n",
       "      <td>1578787200</td>\n",
       "      <td>2020-01-12</td>\n",
       "      <td>26208</td>\n",
       "    </tr>\n",
       "    <tr>\n",
       "      <th>12</th>\n",
       "      <td>1553990400</td>\n",
       "      <td>2019-03-31</td>\n",
       "      <td>24168</td>\n",
       "    </tr>\n",
       "    <tr>\n",
       "      <th>6</th>\n",
       "      <td>1550361600</td>\n",
       "      <td>2019-02-17</td>\n",
       "      <td>20378</td>\n",
       "    </tr>\n",
       "    <tr>\n",
       "      <th>96</th>\n",
       "      <td>1604793600</td>\n",
       "      <td>2020-11-08</td>\n",
       "      <td>19596</td>\n",
       "    </tr>\n",
       "    <tr>\n",
       "      <th>26</th>\n",
       "      <td>1562457600</td>\n",
       "      <td>2019-07-07</td>\n",
       "      <td>19575</td>\n",
       "    </tr>\n",
       "    <tr>\n",
       "      <th>3</th>\n",
       "      <td>1548547200</td>\n",
       "      <td>2019-01-27</td>\n",
       "      <td>18925</td>\n",
       "    </tr>\n",
       "    <tr>\n",
       "      <th>104</th>\n",
       "      <td>1609632000</td>\n",
       "      <td>2021-01-03</td>\n",
       "      <td>18708</td>\n",
       "    </tr>\n",
       "    <tr>\n",
       "      <th>89</th>\n",
       "      <td>1600560000</td>\n",
       "      <td>2020-09-20</td>\n",
       "      <td>18581</td>\n",
       "    </tr>\n",
       "    <tr>\n",
       "      <th>49</th>\n",
       "      <td>1576368000</td>\n",
       "      <td>2019-12-15</td>\n",
       "      <td>18551</td>\n",
       "    </tr>\n",
       "    <tr>\n",
       "      <th>30</th>\n",
       "      <td>1564876800</td>\n",
       "      <td>2019-08-04</td>\n",
       "      <td>18406</td>\n",
       "    </tr>\n",
       "    <tr>\n",
       "      <th>121</th>\n",
       "      <td>1619913600</td>\n",
       "      <td>2021-05-02</td>\n",
       "      <td>18254</td>\n",
       "    </tr>\n",
       "  </tbody>\n",
       "</table>\n",
       "</div>"
      ],
      "text/plain": [
       "          Weeks     NewDate    Adds\n",
       "2    1547942400  2019-01-20  146211\n",
       "8    1551571200  2019-03-03  117110\n",
       "1    1547337600  2019-01-13   82118\n",
       "11   1553385600  2019-03-24   52630\n",
       "47   1575158400  2019-12-01   52442\n",
       "31   1565481600  2019-08-11   50436\n",
       "7    1550966400  2019-02-24   46140\n",
       "19   1558224000  2019-05-19   40347\n",
       "48   1575763200  2019-12-08   39599\n",
       "68   1587859200  2020-04-26   33376\n",
       "23   1560643200  2019-06-16   31928\n",
       "0    1546732800  2019-01-06   29239\n",
       "24   1561248000  2019-06-23   29103\n",
       "100  1607212800  2020-12-06   27567\n",
       "53   1578787200  2020-01-12   26208\n",
       "12   1553990400  2019-03-31   24168\n",
       "6    1550361600  2019-02-17   20378\n",
       "96   1604793600  2020-11-08   19596\n",
       "26   1562457600  2019-07-07   19575\n",
       "3    1548547200  2019-01-27   18925\n",
       "104  1609632000  2021-01-03   18708\n",
       "89   1600560000  2020-09-20   18581\n",
       "49   1576368000  2019-12-15   18551\n",
       "30   1564876800  2019-08-04   18406\n",
       "121  1619913600  2021-05-02   18254"
      ]
     },
     "execution_count": 128,
     "metadata": {},
     "output_type": "execute_result"
    }
   ],
   "source": [
    "names_and_years = df.groupby(['Weeks','NewDate'])\n",
    "sum_counts = names_and_years['Adds'].sum().reset_index().sort_values('Adds', ascending=False)\n",
    "sum_counts.head(25)"
   ]
  },
  {
   "cell_type": "code",
   "execution_count": 129,
   "metadata": {},
   "outputs": [
    {
     "data": {
      "text/html": [
       "<div>\n",
       "<style scoped>\n",
       "    .dataframe tbody tr th:only-of-type {\n",
       "        vertical-align: middle;\n",
       "    }\n",
       "\n",
       "    .dataframe tbody tr th {\n",
       "        vertical-align: top;\n",
       "    }\n",
       "\n",
       "    .dataframe thead th {\n",
       "        text-align: right;\n",
       "    }\n",
       "</style>\n",
       "<table border=\"1\" class=\"dataframe\">\n",
       "  <thead>\n",
       "    <tr style=\"text-align: right;\">\n",
       "      <th></th>\n",
       "      <th>Adds</th>\n",
       "      <th>Date</th>\n",
       "    </tr>\n",
       "  </thead>\n",
       "  <tbody>\n",
       "    <tr>\n",
       "      <th>154</th>\n",
       "      <td>146211</td>\n",
       "      <td>2019</td>\n",
       "    </tr>\n",
       "    <tr>\n",
       "      <th>153</th>\n",
       "      <td>117110</td>\n",
       "      <td>2019</td>\n",
       "    </tr>\n",
       "    <tr>\n",
       "      <th>152</th>\n",
       "      <td>82118</td>\n",
       "      <td>2019</td>\n",
       "    </tr>\n",
       "    <tr>\n",
       "      <th>151</th>\n",
       "      <td>52630</td>\n",
       "      <td>2019</td>\n",
       "    </tr>\n",
       "    <tr>\n",
       "      <th>150</th>\n",
       "      <td>52442</td>\n",
       "      <td>2019</td>\n",
       "    </tr>\n",
       "    <tr>\n",
       "      <th>149</th>\n",
       "      <td>50436</td>\n",
       "      <td>2019</td>\n",
       "    </tr>\n",
       "    <tr>\n",
       "      <th>148</th>\n",
       "      <td>46140</td>\n",
       "      <td>2019</td>\n",
       "    </tr>\n",
       "    <tr>\n",
       "      <th>147</th>\n",
       "      <td>40347</td>\n",
       "      <td>2019</td>\n",
       "    </tr>\n",
       "    <tr>\n",
       "      <th>146</th>\n",
       "      <td>39599</td>\n",
       "      <td>2019</td>\n",
       "    </tr>\n",
       "    <tr>\n",
       "      <th>145</th>\n",
       "      <td>33376</td>\n",
       "      <td>2020</td>\n",
       "    </tr>\n",
       "  </tbody>\n",
       "</table>\n",
       "</div>"
      ],
      "text/plain": [
       "       Adds  Date\n",
       "154  146211  2019\n",
       "153  117110  2019\n",
       "152   82118  2019\n",
       "151   52630  2019\n",
       "150   52442  2019\n",
       "149   50436  2019\n",
       "148   46140  2019\n",
       "147   40347  2019\n",
       "146   39599  2019\n",
       "145   33376  2020"
      ]
     },
     "execution_count": 129,
     "metadata": {},
     "output_type": "execute_result"
    }
   ],
   "source": [
    "pr_by_year_neo4j = df.groupby(['Adds'])['Date'].sum().reset_index().sort_values('Adds', ascending=False)\n",
    "pr_by_year_neo4j.head(10)"
   ]
  },
  {
   "cell_type": "code",
   "execution_count": 104,
   "metadata": {},
   "outputs": [],
   "source": [
    "#GRAPH FOR Neo4j from 2019-2022\n",
    "#add commit values"
   ]
  },
  {
   "cell_type": "code",
   "execution_count": 130,
   "metadata": {},
   "outputs": [
    {
     "data": {
      "text/plain": [
       "Text(0.5, 0, 'Date')"
      ]
     },
     "execution_count": 130,
     "metadata": {},
     "output_type": "execute_result"
    },
    {
     "data": {
      "image/png": "[encoded data removed]",
      "text/plain": [
       "<Figure size 576x396 with 1 Axes>"
      ]
     },
     "metadata": {},
     "output_type": "display_data"
    }
   ],
   "source": [
    "plot_annual_pr = sns.barplot(data=pr_by_year_neo4j.query('Date < 2022 & Date > 2018'),x='Date',y='Adds',ci=None)\n",
    "plot_annual_pr.set_ylabel('Adds For Neo4j (10000)')\n",
    "plot_annual_pr.set_xlabel('Date')"
   ]
  },
  {
   "cell_type": "code",
   "execution_count": 131,
   "metadata": {},
   "outputs": [
    {
     "name": "stdout",
     "output_type": "stream",
     "text": [
      "          Weeks    Adds    Subs  Date    NewDate\n",
      "0    1546732800   29239  -26721  2019 2019-01-06\n",
      "1    1547337600   82118  -77959  2019 2019-01-13\n",
      "2    1547942400  146211 -143448  2019 2019-01-20\n",
      "3    1548547200   18925  -27157  2019 2019-01-27\n",
      "4    1549152000   12930  -10013  2019 2019-02-03\n",
      "..          ...     ...     ...   ...        ...\n",
      "151  1638057600    1664    -249  2021 2021-11-28\n",
      "152  1638662400     376    -203  2021 2021-12-05\n",
      "153  1639267200     714    -314  2021 2021-12-12\n",
      "154  1639872000      57     -22  2021 2021-12-19\n",
      "155  1640476800      25      -4  2021 2021-12-26\n",
      "\n",
      "[156 rows x 5 columns]\n",
      "\n",
      "Weeks               int64\n",
      "Adds                int64\n",
      "Subs                int64\n",
      "Date                int64\n",
      "NewDate    datetime64[ns]\n",
      "dtype: object\n"
     ]
    }
   ],
   "source": [
    "df['NewDate']=pd.to_datetime(df['NewDate'])\n",
    "print(df)\n",
    "print()\n",
    "print(df.dtypes)"
   ]
  },
  {
   "cell_type": "code",
   "execution_count": 132,
   "metadata": {},
   "outputs": [],
   "source": [
    "df['NewDate']=pd.to_datetime(df['NewDate'],format='%Y-%m-%d %I-%p')"
   ]
  },
  {
   "cell_type": "code",
   "execution_count": 133,
   "metadata": {},
   "outputs": [],
   "source": [
    "commit_date= df['NewDate']\n",
    "Adds_repo= df['Adds']"
   ]
  },
  {
   "cell_type": "code",
   "execution_count": 135,
   "metadata": {},
   "outputs": [
    {
     "data": {
      "text/plain": [
       "<function matplotlib.pyplot.tight_layout(*, pad=1.08, h_pad=None, w_pad=None, rect=None)>"
      ]
     },
     "execution_count": 135,
     "metadata": {},
     "output_type": "execute_result"
    },
    {
     "data": {
      "image/png": "[encoded data removed]",
      "text/plain": [
       "<Figure size 576x396 with 1 Axes>"
      ]
     },
     "metadata": {},
     "output_type": "display_data"
    }
   ],
   "source": [
    "plt.style.use('seaborn')\n",
    "plt.plot_date(commit_date,Adds_repo,linestyle='solid')\n",
    "plt.gcf().autofmt_xdate()\n",
    "plt.title('Neo4j')\n",
    "plt.xlabel('Dates')\n",
    "plt.ylabel('No.of Additions')\n",
    "plt.tight_layout"
   ]
  },
  {
   "cell_type": "code",
   "execution_count": 137,
   "metadata": {},
   "outputs": [
    {
     "data": {
      "text/html": [
       "<div>\n",
       "<style scoped>\n",
       "    .dataframe tbody tr th:only-of-type {\n",
       "        vertical-align: middle;\n",
       "    }\n",
       "\n",
       "    .dataframe tbody tr th {\n",
       "        vertical-align: top;\n",
       "    }\n",
       "\n",
       "    .dataframe thead th {\n",
       "        text-align: right;\n",
       "    }\n",
       "</style>\n",
       "<table border=\"1\" class=\"dataframe\">\n",
       "  <thead>\n",
       "    <tr style=\"text-align: right;\">\n",
       "      <th></th>\n",
       "      <th>Weeks</th>\n",
       "      <th>Adds</th>\n",
       "      <th>Subs</th>\n",
       "      <th>Date</th>\n",
       "      <th>Year</th>\n",
       "    </tr>\n",
       "  </thead>\n",
       "  <tbody>\n",
       "    <tr>\n",
       "      <th>0</th>\n",
       "      <td>1546732800</td>\n",
       "      <td>4342</td>\n",
       "      <td>-3512</td>\n",
       "      <td>06/01/2019</td>\n",
       "      <td>2019</td>\n",
       "    </tr>\n",
       "    <tr>\n",
       "      <th>1</th>\n",
       "      <td>1547337600</td>\n",
       "      <td>5616</td>\n",
       "      <td>-2394</td>\n",
       "      <td>13/01/2019</td>\n",
       "      <td>2019</td>\n",
       "    </tr>\n",
       "    <tr>\n",
       "      <th>2</th>\n",
       "      <td>1547942400</td>\n",
       "      <td>6256</td>\n",
       "      <td>-3377</td>\n",
       "      <td>20/01/2019</td>\n",
       "      <td>2019</td>\n",
       "    </tr>\n",
       "    <tr>\n",
       "      <th>3</th>\n",
       "      <td>1548547200</td>\n",
       "      <td>5803</td>\n",
       "      <td>-3201</td>\n",
       "      <td>27/01/2019</td>\n",
       "      <td>2019</td>\n",
       "    </tr>\n",
       "    <tr>\n",
       "      <th>4</th>\n",
       "      <td>1549152000</td>\n",
       "      <td>652</td>\n",
       "      <td>-322</td>\n",
       "      <td>03/02/2019</td>\n",
       "      <td>2019</td>\n",
       "    </tr>\n",
       "  </tbody>\n",
       "</table>\n",
       "</div>"
      ],
      "text/plain": [
       "        Weeks  Adds  Subs        Date  Year\n",
       "0  1546732800  4342 -3512  06/01/2019  2019\n",
       "1  1547337600  5616 -2394  13/01/2019  2019\n",
       "2  1547942400  6256 -3377  20/01/2019  2019\n",
       "3  1548547200  5803 -3201  27/01/2019  2019\n",
       "4  1549152000   652  -322  03/02/2019  2019"
      ]
     },
     "execution_count": 137,
     "metadata": {},
     "output_type": "execute_result"
    }
   ],
   "source": [
    "df = pd.read_csv('Apache.csv')\n",
    "df.head()"
   ]
  },
  {
   "cell_type": "code",
   "execution_count": 138,
   "metadata": {},
   "outputs": [
    {
     "name": "stdout",
     "output_type": "stream",
     "text": [
      "Weeks                                         248602348800\n",
      "Adds                                               2117224\n",
      "Subs                                              -1361910\n",
      "Date     06/01/201913/01/201920/01/201927/01/201903/02/...\n",
      "Year                                                315120\n",
      "dtype: object\n"
     ]
    }
   ],
   "source": [
    "sum_of_cols=df.sum(axis=0)\n",
    "print(sum_of_cols)"
   ]
  },
  {
   "cell_type": "code",
   "execution_count": 139,
   "metadata": {},
   "outputs": [
    {
     "data": {
      "text/html": [
       "<div>\n",
       "<style scoped>\n",
       "    .dataframe tbody tr th:only-of-type {\n",
       "        vertical-align: middle;\n",
       "    }\n",
       "\n",
       "    .dataframe tbody tr th {\n",
       "        vertical-align: top;\n",
       "    }\n",
       "\n",
       "    .dataframe thead th {\n",
       "        text-align: right;\n",
       "    }\n",
       "</style>\n",
       "<table border=\"1\" class=\"dataframe\">\n",
       "  <thead>\n",
       "    <tr style=\"text-align: right;\">\n",
       "      <th></th>\n",
       "      <th>Adds</th>\n",
       "      <th>Year</th>\n",
       "    </tr>\n",
       "  </thead>\n",
       "  <tbody>\n",
       "    <tr>\n",
       "      <th>154</th>\n",
       "      <td>151028</td>\n",
       "      <td>2019</td>\n",
       "    </tr>\n",
       "    <tr>\n",
       "      <th>153</th>\n",
       "      <td>139743</td>\n",
       "      <td>2019</td>\n",
       "    </tr>\n",
       "    <tr>\n",
       "      <th>152</th>\n",
       "      <td>134625</td>\n",
       "      <td>2020</td>\n",
       "    </tr>\n",
       "    <tr>\n",
       "      <th>151</th>\n",
       "      <td>84550</td>\n",
       "      <td>2021</td>\n",
       "    </tr>\n",
       "    <tr>\n",
       "      <th>150</th>\n",
       "      <td>81409</td>\n",
       "      <td>2020</td>\n",
       "    </tr>\n",
       "    <tr>\n",
       "      <th>149</th>\n",
       "      <td>79610</td>\n",
       "      <td>2021</td>\n",
       "    </tr>\n",
       "    <tr>\n",
       "      <th>148</th>\n",
       "      <td>74234</td>\n",
       "      <td>2019</td>\n",
       "    </tr>\n",
       "    <tr>\n",
       "      <th>147</th>\n",
       "      <td>71619</td>\n",
       "      <td>2019</td>\n",
       "    </tr>\n",
       "    <tr>\n",
       "      <th>146</th>\n",
       "      <td>66760</td>\n",
       "      <td>2021</td>\n",
       "    </tr>\n",
       "    <tr>\n",
       "      <th>145</th>\n",
       "      <td>62915</td>\n",
       "      <td>2021</td>\n",
       "    </tr>\n",
       "  </tbody>\n",
       "</table>\n",
       "</div>"
      ],
      "text/plain": [
       "       Adds  Year\n",
       "154  151028  2019\n",
       "153  139743  2019\n",
       "152  134625  2020\n",
       "151   84550  2021\n",
       "150   81409  2020\n",
       "149   79610  2021\n",
       "148   74234  2019\n",
       "147   71619  2019\n",
       "146   66760  2021\n",
       "145   62915  2021"
      ]
     },
     "execution_count": 139,
     "metadata": {},
     "output_type": "execute_result"
    }
   ],
   "source": [
    "Adds_by_year_Apache = df.groupby(['Adds'])['Year'].sum().reset_index().sort_values('Adds', ascending=False)\n",
    "Adds_by_year_Apache.head(10)"
   ]
  },
  {
   "cell_type": "code",
   "execution_count": 14,
   "metadata": {},
   "outputs": [],
   "source": [
    "#GRAPH FOR Apache 2019-2022 \n",
    "#https://api.github.com/repos/Apache/Spark/stats/code_frequency"
   ]
  },
  {
   "cell_type": "code",
   "execution_count": 140,
   "metadata": {},
   "outputs": [
    {
     "data": {
      "text/plain": [
       "Text(0.5, 0, 'Year')"
      ]
     },
     "execution_count": 140,
     "metadata": {},
     "output_type": "execute_result"
    },
    {
     "data": {
      "image/png": "[encoded data removed]",
      "text/plain": [
       "<Figure size 576x396 with 1 Axes>"
      ]
     },
     "metadata": {},
     "output_type": "display_data"
    }
   ],
   "source": [
    "plot_annual_pr = sns.barplot(data=Adds_by_year_Apache.query('Year < 2022 & Year > 2018'),x='Year',y='Adds',ci=None)\n",
    "plot_annual_pr.set_ylabel('Adds For Apache (10000)')\n",
    "plot_annual_pr.set_xlabel('Year')"
   ]
  },
  {
   "cell_type": "code",
   "execution_count": 141,
   "metadata": {},
   "outputs": [
    {
     "name": "stdout",
     "output_type": "stream",
     "text": [
      "          Weeks   Adds   Subs       Date  Year\n",
      "0    1546732800   4342  -3512 2019-06-01  2019\n",
      "1    1547337600   5616  -2394 2019-01-13  2019\n",
      "2    1547942400   6256  -3377 2019-01-20  2019\n",
      "3    1548547200   5803  -3201 2019-01-27  2019\n",
      "4    1549152000    652   -322 2019-03-02  2019\n",
      "..          ...    ...    ...        ...   ...\n",
      "151  1638057600   5688  -2885 2021-11-28  2021\n",
      "152  1638662400   3039  -1350 2021-05-12  2021\n",
      "153  1639267200  10179  -3067 2021-12-12  2021\n",
      "154  1639872000   2924  -2945 2021-12-19  2021\n",
      "155  1640476800  16020 -13359 2021-12-26  2021\n",
      "\n",
      "[156 rows x 5 columns]\n",
      "\n",
      "Weeks             int64\n",
      "Adds              int64\n",
      "Subs              int64\n",
      "Date     datetime64[ns]\n",
      "Year              int64\n",
      "dtype: object\n"
     ]
    },
    {
     "name": "stderr",
     "output_type": "stream",
     "text": [
      "C:\\Users\\Jahnavi Jaitly\\AppData\\Local\\Temp\\ipykernel_1840\\1437625883.py:1: UserWarning: Parsing '13/01/2019' in DD/MM/YYYY format. Provide format or specify infer_datetime_format=True for consistent parsing.\n",
      "  df['Date']=pd.to_datetime(df['Date'])\n",
      "C:\\Users\\Jahnavi Jaitly\\AppData\\Local\\Temp\\ipykernel_1840\\1437625883.py:1: UserWarning: Parsing '20/01/2019' in DD/MM/YYYY format. Provide format or specify infer_datetime_format=True for consistent parsing.\n",
      "  df['Date']=pd.to_datetime(df['Date'])\n",
      "C:\\Users\\Jahnavi Jaitly\\AppData\\Local\\Temp\\ipykernel_1840\\1437625883.py:1: UserWarning: Parsing '27/01/2019' in DD/MM/YYYY format. Provide format or specify infer_datetime_format=True for consistent parsing.\n",
      "  df['Date']=pd.to_datetime(df['Date'])\n",
      "C:\\Users\\Jahnavi Jaitly\\AppData\\Local\\Temp\\ipykernel_1840\\1437625883.py:1: UserWarning: Parsing '17/02/2019' in DD/MM/YYYY format. Provide format or specify infer_datetime_format=True for consistent parsing.\n",
      "  df['Date']=pd.to_datetime(df['Date'])\n",
      "C:\\Users\\Jahnavi Jaitly\\AppData\\Local\\Temp\\ipykernel_1840\\1437625883.py:1: UserWarning: Parsing '24/02/2019' in DD/MM/YYYY format. Provide format or specify infer_datetime_format=True for consistent parsing.\n",
      "  df['Date']=pd.to_datetime(df['Date'])\n",
      "C:\\Users\\Jahnavi Jaitly\\AppData\\Local\\Temp\\ipykernel_1840\\1437625883.py:1: UserWarning: Parsing '17/03/2019' in DD/MM/YYYY format. Provide format or specify infer_datetime_format=True for consistent parsing.\n",
      "  df['Date']=pd.to_datetime(df['Date'])\n",
      "C:\\Users\\Jahnavi Jaitly\\AppData\\Local\\Temp\\ipykernel_1840\\1437625883.py:1: UserWarning: Parsing '24/03/2019' in DD/MM/YYYY format. Provide format or specify infer_datetime_format=True for consistent parsing.\n",
      "  df['Date']=pd.to_datetime(df['Date'])\n",
      "C:\\Users\\Jahnavi Jaitly\\AppData\\Local\\Temp\\ipykernel_1840\\1437625883.py:1: UserWarning: Parsing '31/03/2019' in DD/MM/YYYY format. Provide format or specify infer_datetime_format=True for consistent parsing.\n",
      "  df['Date']=pd.to_datetime(df['Date'])\n",
      "C:\\Users\\Jahnavi Jaitly\\AppData\\Local\\Temp\\ipykernel_1840\\1437625883.py:1: UserWarning: Parsing '14/04/2019' in DD/MM/YYYY format. Provide format or specify infer_datetime_format=True for consistent parsing.\n",
      "  df['Date']=pd.to_datetime(df['Date'])\n",
      "C:\\Users\\Jahnavi Jaitly\\AppData\\Local\\Temp\\ipykernel_1840\\1437625883.py:1: UserWarning: Parsing '21/04/2019' in DD/MM/YYYY format. Provide format or specify infer_datetime_format=True for consistent parsing.\n",
      "  df['Date']=pd.to_datetime(df['Date'])\n",
      "C:\\Users\\Jahnavi Jaitly\\AppData\\Local\\Temp\\ipykernel_1840\\1437625883.py:1: UserWarning: Parsing '28/04/2019' in DD/MM/YYYY format. Provide format or specify infer_datetime_format=True for consistent parsing.\n",
      "  df['Date']=pd.to_datetime(df['Date'])\n",
      "C:\\Users\\Jahnavi Jaitly\\AppData\\Local\\Temp\\ipykernel_1840\\1437625883.py:1: UserWarning: Parsing '19/05/2019' in DD/MM/YYYY format. Provide format or specify infer_datetime_format=True for consistent parsing.\n",
      "  df['Date']=pd.to_datetime(df['Date'])\n",
      "C:\\Users\\Jahnavi Jaitly\\AppData\\Local\\Temp\\ipykernel_1840\\1437625883.py:1: UserWarning: Parsing '26/05/2019' in DD/MM/YYYY format. Provide format or specify infer_datetime_format=True for consistent parsing.\n",
      "  df['Date']=pd.to_datetime(df['Date'])\n",
      "C:\\Users\\Jahnavi Jaitly\\AppData\\Local\\Temp\\ipykernel_1840\\1437625883.py:1: UserWarning: Parsing '16/06/2019' in DD/MM/YYYY format. Provide format or specify infer_datetime_format=True for consistent parsing.\n",
      "  df['Date']=pd.to_datetime(df['Date'])\n",
      "C:\\Users\\Jahnavi Jaitly\\AppData\\Local\\Temp\\ipykernel_1840\\1437625883.py:1: UserWarning: Parsing '23/06/2019' in DD/MM/YYYY format. Provide format or specify infer_datetime_format=True for consistent parsing.\n",
      "  df['Date']=pd.to_datetime(df['Date'])\n",
      "C:\\Users\\Jahnavi Jaitly\\AppData\\Local\\Temp\\ipykernel_1840\\1437625883.py:1: UserWarning: Parsing '30/06/2019' in DD/MM/YYYY format. Provide format or specify infer_datetime_format=True for consistent parsing.\n",
      "  df['Date']=pd.to_datetime(df['Date'])\n",
      "C:\\Users\\Jahnavi Jaitly\\AppData\\Local\\Temp\\ipykernel_1840\\1437625883.py:1: UserWarning: Parsing '14/07/2019' in DD/MM/YYYY format. Provide format or specify infer_datetime_format=True for consistent parsing.\n",
      "  df['Date']=pd.to_datetime(df['Date'])\n",
      "C:\\Users\\Jahnavi Jaitly\\AppData\\Local\\Temp\\ipykernel_1840\\1437625883.py:1: UserWarning: Parsing '21/07/2019' in DD/MM/YYYY format. Provide format or specify infer_datetime_format=True for consistent parsing.\n",
      "  df['Date']=pd.to_datetime(df['Date'])\n",
      "C:\\Users\\Jahnavi Jaitly\\AppData\\Local\\Temp\\ipykernel_1840\\1437625883.py:1: UserWarning: Parsing '28/07/2019' in DD/MM/YYYY format. Provide format or specify infer_datetime_format=True for consistent parsing.\n",
      "  df['Date']=pd.to_datetime(df['Date'])\n",
      "C:\\Users\\Jahnavi Jaitly\\AppData\\Local\\Temp\\ipykernel_1840\\1437625883.py:1: UserWarning: Parsing '18/08/2019' in DD/MM/YYYY format. Provide format or specify infer_datetime_format=True for consistent parsing.\n",
      "  df['Date']=pd.to_datetime(df['Date'])\n",
      "C:\\Users\\Jahnavi Jaitly\\AppData\\Local\\Temp\\ipykernel_1840\\1437625883.py:1: UserWarning: Parsing '25/08/2019' in DD/MM/YYYY format. Provide format or specify infer_datetime_format=True for consistent parsing.\n",
      "  df['Date']=pd.to_datetime(df['Date'])\n",
      "C:\\Users\\Jahnavi Jaitly\\AppData\\Local\\Temp\\ipykernel_1840\\1437625883.py:1: UserWarning: Parsing '15/09/2019' in DD/MM/YYYY format. Provide format or specify infer_datetime_format=True for consistent parsing.\n",
      "  df['Date']=pd.to_datetime(df['Date'])\n",
      "C:\\Users\\Jahnavi Jaitly\\AppData\\Local\\Temp\\ipykernel_1840\\1437625883.py:1: UserWarning: Parsing '22/09/2019' in DD/MM/YYYY format. Provide format or specify infer_datetime_format=True for consistent parsing.\n",
      "  df['Date']=pd.to_datetime(df['Date'])\n",
      "C:\\Users\\Jahnavi Jaitly\\AppData\\Local\\Temp\\ipykernel_1840\\1437625883.py:1: UserWarning: Parsing '29/09/2019' in DD/MM/YYYY format. Provide format or specify infer_datetime_format=True for consistent parsing.\n",
      "  df['Date']=pd.to_datetime(df['Date'])\n",
      "C:\\Users\\Jahnavi Jaitly\\AppData\\Local\\Temp\\ipykernel_1840\\1437625883.py:1: UserWarning: Parsing '13/10/2019' in DD/MM/YYYY format. Provide format or specify infer_datetime_format=True for consistent parsing.\n",
      "  df['Date']=pd.to_datetime(df['Date'])\n",
      "C:\\Users\\Jahnavi Jaitly\\AppData\\Local\\Temp\\ipykernel_1840\\1437625883.py:1: UserWarning: Parsing '20/10/2019' in DD/MM/YYYY format. Provide format or specify infer_datetime_format=True for consistent parsing.\n",
      "  df['Date']=pd.to_datetime(df['Date'])\n",
      "C:\\Users\\Jahnavi Jaitly\\AppData\\Local\\Temp\\ipykernel_1840\\1437625883.py:1: UserWarning: Parsing '27/10/2019' in DD/MM/YYYY format. Provide format or specify infer_datetime_format=True for consistent parsing.\n",
      "  df['Date']=pd.to_datetime(df['Date'])\n",
      "C:\\Users\\Jahnavi Jaitly\\AppData\\Local\\Temp\\ipykernel_1840\\1437625883.py:1: UserWarning: Parsing '17/11/2019' in DD/MM/YYYY format. Provide format or specify infer_datetime_format=True for consistent parsing.\n",
      "  df['Date']=pd.to_datetime(df['Date'])\n",
      "C:\\Users\\Jahnavi Jaitly\\AppData\\Local\\Temp\\ipykernel_1840\\1437625883.py:1: UserWarning: Parsing '24/11/2019' in DD/MM/YYYY format. Provide format or specify infer_datetime_format=True for consistent parsing.\n",
      "  df['Date']=pd.to_datetime(df['Date'])\n",
      "C:\\Users\\Jahnavi Jaitly\\AppData\\Local\\Temp\\ipykernel_1840\\1437625883.py:1: UserWarning: Parsing '15/12/2019' in DD/MM/YYYY format. Provide format or specify infer_datetime_format=True for consistent parsing.\n",
      "  df['Date']=pd.to_datetime(df['Date'])\n",
      "C:\\Users\\Jahnavi Jaitly\\AppData\\Local\\Temp\\ipykernel_1840\\1437625883.py:1: UserWarning: Parsing '22/12/2019' in DD/MM/YYYY format. Provide format or specify infer_datetime_format=True for consistent parsing.\n",
      "  df['Date']=pd.to_datetime(df['Date'])\n",
      "C:\\Users\\Jahnavi Jaitly\\AppData\\Local\\Temp\\ipykernel_1840\\1437625883.py:1: UserWarning: Parsing '29/12/2019' in DD/MM/YYYY format. Provide format or specify infer_datetime_format=True for consistent parsing.\n",
      "  df['Date']=pd.to_datetime(df['Date'])\n",
      "C:\\Users\\Jahnavi Jaitly\\AppData\\Local\\Temp\\ipykernel_1840\\1437625883.py:1: UserWarning: Parsing '19/01/2020' in DD/MM/YYYY format. Provide format or specify infer_datetime_format=True for consistent parsing.\n",
      "  df['Date']=pd.to_datetime(df['Date'])\n",
      "C:\\Users\\Jahnavi Jaitly\\AppData\\Local\\Temp\\ipykernel_1840\\1437625883.py:1: UserWarning: Parsing '26/01/2020' in DD/MM/YYYY format. Provide format or specify infer_datetime_format=True for consistent parsing.\n",
      "  df['Date']=pd.to_datetime(df['Date'])\n",
      "C:\\Users\\Jahnavi Jaitly\\AppData\\Local\\Temp\\ipykernel_1840\\1437625883.py:1: UserWarning: Parsing '16/02/2020' in DD/MM/YYYY format. Provide format or specify infer_datetime_format=True for consistent parsing.\n",
      "  df['Date']=pd.to_datetime(df['Date'])\n",
      "C:\\Users\\Jahnavi Jaitly\\AppData\\Local\\Temp\\ipykernel_1840\\1437625883.py:1: UserWarning: Parsing '23/02/2020' in DD/MM/YYYY format. Provide format or specify infer_datetime_format=True for consistent parsing.\n",
      "  df['Date']=pd.to_datetime(df['Date'])\n",
      "C:\\Users\\Jahnavi Jaitly\\AppData\\Local\\Temp\\ipykernel_1840\\1437625883.py:1: UserWarning: Parsing '15/03/2020' in DD/MM/YYYY format. Provide format or specify infer_datetime_format=True for consistent parsing.\n",
      "  df['Date']=pd.to_datetime(df['Date'])\n",
      "C:\\Users\\Jahnavi Jaitly\\AppData\\Local\\Temp\\ipykernel_1840\\1437625883.py:1: UserWarning: Parsing '22/03/2020' in DD/MM/YYYY format. Provide format or specify infer_datetime_format=True for consistent parsing.\n",
      "  df['Date']=pd.to_datetime(df['Date'])\n",
      "C:\\Users\\Jahnavi Jaitly\\AppData\\Local\\Temp\\ipykernel_1840\\1437625883.py:1: UserWarning: Parsing '29/03/2020' in DD/MM/YYYY format. Provide format or specify infer_datetime_format=True for consistent parsing.\n",
      "  df['Date']=pd.to_datetime(df['Date'])\n",
      "C:\\Users\\Jahnavi Jaitly\\AppData\\Local\\Temp\\ipykernel_1840\\1437625883.py:1: UserWarning: Parsing '19/04/2020' in DD/MM/YYYY format. Provide format or specify infer_datetime_format=True for consistent parsing.\n",
      "  df['Date']=pd.to_datetime(df['Date'])\n",
      "C:\\Users\\Jahnavi Jaitly\\AppData\\Local\\Temp\\ipykernel_1840\\1437625883.py:1: UserWarning: Parsing '26/04/2020' in DD/MM/YYYY format. Provide format or specify infer_datetime_format=True for consistent parsing.\n",
      "  df['Date']=pd.to_datetime(df['Date'])\n",
      "C:\\Users\\Jahnavi Jaitly\\AppData\\Local\\Temp\\ipykernel_1840\\1437625883.py:1: UserWarning: Parsing '17/05/2020' in DD/MM/YYYY format. Provide format or specify infer_datetime_format=True for consistent parsing.\n",
      "  df['Date']=pd.to_datetime(df['Date'])\n",
      "C:\\Users\\Jahnavi Jaitly\\AppData\\Local\\Temp\\ipykernel_1840\\1437625883.py:1: UserWarning: Parsing '24/05/2020' in DD/MM/YYYY format. Provide format or specify infer_datetime_format=True for consistent parsing.\n",
      "  df['Date']=pd.to_datetime(df['Date'])\n",
      "C:\\Users\\Jahnavi Jaitly\\AppData\\Local\\Temp\\ipykernel_1840\\1437625883.py:1: UserWarning: Parsing '31/05/2020' in DD/MM/YYYY format. Provide format or specify infer_datetime_format=True for consistent parsing.\n",
      "  df['Date']=pd.to_datetime(df['Date'])\n",
      "C:\\Users\\Jahnavi Jaitly\\AppData\\Local\\Temp\\ipykernel_1840\\1437625883.py:1: UserWarning: Parsing '14/06/2020' in DD/MM/YYYY format. Provide format or specify infer_datetime_format=True for consistent parsing.\n",
      "  df['Date']=pd.to_datetime(df['Date'])\n",
      "C:\\Users\\Jahnavi Jaitly\\AppData\\Local\\Temp\\ipykernel_1840\\1437625883.py:1: UserWarning: Parsing '21/06/2020' in DD/MM/YYYY format. Provide format or specify infer_datetime_format=True for consistent parsing.\n",
      "  df['Date']=pd.to_datetime(df['Date'])\n",
      "C:\\Users\\Jahnavi Jaitly\\AppData\\Local\\Temp\\ipykernel_1840\\1437625883.py:1: UserWarning: Parsing '28/06/2020' in DD/MM/YYYY format. Provide format or specify infer_datetime_format=True for consistent parsing.\n",
      "  df['Date']=pd.to_datetime(df['Date'])\n",
      "C:\\Users\\Jahnavi Jaitly\\AppData\\Local\\Temp\\ipykernel_1840\\1437625883.py:1: UserWarning: Parsing '19/07/2020' in DD/MM/YYYY format. Provide format or specify infer_datetime_format=True for consistent parsing.\n",
      "  df['Date']=pd.to_datetime(df['Date'])\n",
      "C:\\Users\\Jahnavi Jaitly\\AppData\\Local\\Temp\\ipykernel_1840\\1437625883.py:1: UserWarning: Parsing '26/07/2020' in DD/MM/YYYY format. Provide format or specify infer_datetime_format=True for consistent parsing.\n",
      "  df['Date']=pd.to_datetime(df['Date'])\n",
      "C:\\Users\\Jahnavi Jaitly\\AppData\\Local\\Temp\\ipykernel_1840\\1437625883.py:1: UserWarning: Parsing '16/08/2020' in DD/MM/YYYY format. Provide format or specify infer_datetime_format=True for consistent parsing.\n",
      "  df['Date']=pd.to_datetime(df['Date'])\n",
      "C:\\Users\\Jahnavi Jaitly\\AppData\\Local\\Temp\\ipykernel_1840\\1437625883.py:1: UserWarning: Parsing '23/08/2020' in DD/MM/YYYY format. Provide format or specify infer_datetime_format=True for consistent parsing.\n",
      "  df['Date']=pd.to_datetime(df['Date'])\n",
      "C:\\Users\\Jahnavi Jaitly\\AppData\\Local\\Temp\\ipykernel_1840\\1437625883.py:1: UserWarning: Parsing '30/08/2020' in DD/MM/YYYY format. Provide format or specify infer_datetime_format=True for consistent parsing.\n",
      "  df['Date']=pd.to_datetime(df['Date'])\n",
      "C:\\Users\\Jahnavi Jaitly\\AppData\\Local\\Temp\\ipykernel_1840\\1437625883.py:1: UserWarning: Parsing '13/09/2020' in DD/MM/YYYY format. Provide format or specify infer_datetime_format=True for consistent parsing.\n",
      "  df['Date']=pd.to_datetime(df['Date'])\n",
      "C:\\Users\\Jahnavi Jaitly\\AppData\\Local\\Temp\\ipykernel_1840\\1437625883.py:1: UserWarning: Parsing '20/09/2020' in DD/MM/YYYY format. Provide format or specify infer_datetime_format=True for consistent parsing.\n",
      "  df['Date']=pd.to_datetime(df['Date'])\n",
      "C:\\Users\\Jahnavi Jaitly\\AppData\\Local\\Temp\\ipykernel_1840\\1437625883.py:1: UserWarning: Parsing '27/09/2020' in DD/MM/YYYY format. Provide format or specify infer_datetime_format=True for consistent parsing.\n",
      "  df['Date']=pd.to_datetime(df['Date'])\n",
      "C:\\Users\\Jahnavi Jaitly\\AppData\\Local\\Temp\\ipykernel_1840\\1437625883.py:1: UserWarning: Parsing '18/10/2020' in DD/MM/YYYY format. Provide format or specify infer_datetime_format=True for consistent parsing.\n",
      "  df['Date']=pd.to_datetime(df['Date'])\n",
      "C:\\Users\\Jahnavi Jaitly\\AppData\\Local\\Temp\\ipykernel_1840\\1437625883.py:1: UserWarning: Parsing '25/10/2020' in DD/MM/YYYY format. Provide format or specify infer_datetime_format=True for consistent parsing.\n",
      "  df['Date']=pd.to_datetime(df['Date'])\n",
      "C:\\Users\\Jahnavi Jaitly\\AppData\\Local\\Temp\\ipykernel_1840\\1437625883.py:1: UserWarning: Parsing '15/11/2020' in DD/MM/YYYY format. Provide format or specify infer_datetime_format=True for consistent parsing.\n",
      "  df['Date']=pd.to_datetime(df['Date'])\n",
      "C:\\Users\\Jahnavi Jaitly\\AppData\\Local\\Temp\\ipykernel_1840\\1437625883.py:1: UserWarning: Parsing '22/11/2020' in DD/MM/YYYY format. Provide format or specify infer_datetime_format=True for consistent parsing.\n",
      "  df['Date']=pd.to_datetime(df['Date'])\n",
      "C:\\Users\\Jahnavi Jaitly\\AppData\\Local\\Temp\\ipykernel_1840\\1437625883.py:1: UserWarning: Parsing '29/11/2020' in DD/MM/YYYY format. Provide format or specify infer_datetime_format=True for consistent parsing.\n",
      "  df['Date']=pd.to_datetime(df['Date'])\n",
      "C:\\Users\\Jahnavi Jaitly\\AppData\\Local\\Temp\\ipykernel_1840\\1437625883.py:1: UserWarning: Parsing '13/12/2020' in DD/MM/YYYY format. Provide format or specify infer_datetime_format=True for consistent parsing.\n",
      "  df['Date']=pd.to_datetime(df['Date'])\n",
      "C:\\Users\\Jahnavi Jaitly\\AppData\\Local\\Temp\\ipykernel_1840\\1437625883.py:1: UserWarning: Parsing '20/12/2020' in DD/MM/YYYY format. Provide format or specify infer_datetime_format=True for consistent parsing.\n",
      "  df['Date']=pd.to_datetime(df['Date'])\n",
      "C:\\Users\\Jahnavi Jaitly\\AppData\\Local\\Temp\\ipykernel_1840\\1437625883.py:1: UserWarning: Parsing '27/12/2020' in DD/MM/YYYY format. Provide format or specify infer_datetime_format=True for consistent parsing.\n",
      "  df['Date']=pd.to_datetime(df['Date'])\n",
      "C:\\Users\\Jahnavi Jaitly\\AppData\\Local\\Temp\\ipykernel_1840\\1437625883.py:1: UserWarning: Parsing '17/01/2021' in DD/MM/YYYY format. Provide format or specify infer_datetime_format=True for consistent parsing.\n",
      "  df['Date']=pd.to_datetime(df['Date'])\n",
      "C:\\Users\\Jahnavi Jaitly\\AppData\\Local\\Temp\\ipykernel_1840\\1437625883.py:1: UserWarning: Parsing '24/01/2021' in DD/MM/YYYY format. Provide format or specify infer_datetime_format=True for consistent parsing.\n",
      "  df['Date']=pd.to_datetime(df['Date'])\n",
      "C:\\Users\\Jahnavi Jaitly\\AppData\\Local\\Temp\\ipykernel_1840\\1437625883.py:1: UserWarning: Parsing '31/01/2021' in DD/MM/YYYY format. Provide format or specify infer_datetime_format=True for consistent parsing.\n",
      "  df['Date']=pd.to_datetime(df['Date'])\n",
      "C:\\Users\\Jahnavi Jaitly\\AppData\\Local\\Temp\\ipykernel_1840\\1437625883.py:1: UserWarning: Parsing '14/02/2021' in DD/MM/YYYY format. Provide format or specify infer_datetime_format=True for consistent parsing.\n",
      "  df['Date']=pd.to_datetime(df['Date'])\n",
      "C:\\Users\\Jahnavi Jaitly\\AppData\\Local\\Temp\\ipykernel_1840\\1437625883.py:1: UserWarning: Parsing '21/02/2021' in DD/MM/YYYY format. Provide format or specify infer_datetime_format=True for consistent parsing.\n",
      "  df['Date']=pd.to_datetime(df['Date'])\n",
      "C:\\Users\\Jahnavi Jaitly\\AppData\\Local\\Temp\\ipykernel_1840\\1437625883.py:1: UserWarning: Parsing '28/02/2021' in DD/MM/YYYY format. Provide format or specify infer_datetime_format=True for consistent parsing.\n",
      "  df['Date']=pd.to_datetime(df['Date'])\n",
      "C:\\Users\\Jahnavi Jaitly\\AppData\\Local\\Temp\\ipykernel_1840\\1437625883.py:1: UserWarning: Parsing '14/03/2021' in DD/MM/YYYY format. Provide format or specify infer_datetime_format=True for consistent parsing.\n",
      "  df['Date']=pd.to_datetime(df['Date'])\n",
      "C:\\Users\\Jahnavi Jaitly\\AppData\\Local\\Temp\\ipykernel_1840\\1437625883.py:1: UserWarning: Parsing '21/03/2021' in DD/MM/YYYY format. Provide format or specify infer_datetime_format=True for consistent parsing.\n",
      "  df['Date']=pd.to_datetime(df['Date'])\n",
      "C:\\Users\\Jahnavi Jaitly\\AppData\\Local\\Temp\\ipykernel_1840\\1437625883.py:1: UserWarning: Parsing '28/03/2021' in DD/MM/YYYY format. Provide format or specify infer_datetime_format=True for consistent parsing.\n",
      "  df['Date']=pd.to_datetime(df['Date'])\n",
      "C:\\Users\\Jahnavi Jaitly\\AppData\\Local\\Temp\\ipykernel_1840\\1437625883.py:1: UserWarning: Parsing '18/04/2021' in DD/MM/YYYY format. Provide format or specify infer_datetime_format=True for consistent parsing.\n",
      "  df['Date']=pd.to_datetime(df['Date'])\n",
      "C:\\Users\\Jahnavi Jaitly\\AppData\\Local\\Temp\\ipykernel_1840\\1437625883.py:1: UserWarning: Parsing '25/04/2021' in DD/MM/YYYY format. Provide format or specify infer_datetime_format=True for consistent parsing.\n",
      "  df['Date']=pd.to_datetime(df['Date'])\n",
      "C:\\Users\\Jahnavi Jaitly\\AppData\\Local\\Temp\\ipykernel_1840\\1437625883.py:1: UserWarning: Parsing '16/05/2021' in DD/MM/YYYY format. Provide format or specify infer_datetime_format=True for consistent parsing.\n",
      "  df['Date']=pd.to_datetime(df['Date'])\n",
      "C:\\Users\\Jahnavi Jaitly\\AppData\\Local\\Temp\\ipykernel_1840\\1437625883.py:1: UserWarning: Parsing '23/05/2021' in DD/MM/YYYY format. Provide format or specify infer_datetime_format=True for consistent parsing.\n",
      "  df['Date']=pd.to_datetime(df['Date'])\n",
      "C:\\Users\\Jahnavi Jaitly\\AppData\\Local\\Temp\\ipykernel_1840\\1437625883.py:1: UserWarning: Parsing '30/05/2021' in DD/MM/YYYY format. Provide format or specify infer_datetime_format=True for consistent parsing.\n",
      "  df['Date']=pd.to_datetime(df['Date'])\n",
      "C:\\Users\\Jahnavi Jaitly\\AppData\\Local\\Temp\\ipykernel_1840\\1437625883.py:1: UserWarning: Parsing '13/06/2021' in DD/MM/YYYY format. Provide format or specify infer_datetime_format=True for consistent parsing.\n",
      "  df['Date']=pd.to_datetime(df['Date'])\n",
      "C:\\Users\\Jahnavi Jaitly\\AppData\\Local\\Temp\\ipykernel_1840\\1437625883.py:1: UserWarning: Parsing '20/06/2021' in DD/MM/YYYY format. Provide format or specify infer_datetime_format=True for consistent parsing.\n",
      "  df['Date']=pd.to_datetime(df['Date'])\n",
      "C:\\Users\\Jahnavi Jaitly\\AppData\\Local\\Temp\\ipykernel_1840\\1437625883.py:1: UserWarning: Parsing '27/06/2021' in DD/MM/YYYY format. Provide format or specify infer_datetime_format=True for consistent parsing.\n",
      "  df['Date']=pd.to_datetime(df['Date'])\n",
      "C:\\Users\\Jahnavi Jaitly\\AppData\\Local\\Temp\\ipykernel_1840\\1437625883.py:1: UserWarning: Parsing '18/07/2021' in DD/MM/YYYY format. Provide format or specify infer_datetime_format=True for consistent parsing.\n",
      "  df['Date']=pd.to_datetime(df['Date'])\n",
      "C:\\Users\\Jahnavi Jaitly\\AppData\\Local\\Temp\\ipykernel_1840\\1437625883.py:1: UserWarning: Parsing '25/07/2021' in DD/MM/YYYY format. Provide format or specify infer_datetime_format=True for consistent parsing.\n",
      "  df['Date']=pd.to_datetime(df['Date'])\n",
      "C:\\Users\\Jahnavi Jaitly\\AppData\\Local\\Temp\\ipykernel_1840\\1437625883.py:1: UserWarning: Parsing '15/08/2021' in DD/MM/YYYY format. Provide format or specify infer_datetime_format=True for consistent parsing.\n",
      "  df['Date']=pd.to_datetime(df['Date'])\n",
      "C:\\Users\\Jahnavi Jaitly\\AppData\\Local\\Temp\\ipykernel_1840\\1437625883.py:1: UserWarning: Parsing '22/08/2021' in DD/MM/YYYY format. Provide format or specify infer_datetime_format=True for consistent parsing.\n",
      "  df['Date']=pd.to_datetime(df['Date'])\n",
      "C:\\Users\\Jahnavi Jaitly\\AppData\\Local\\Temp\\ipykernel_1840\\1437625883.py:1: UserWarning: Parsing '29/08/2021' in DD/MM/YYYY format. Provide format or specify infer_datetime_format=True for consistent parsing.\n",
      "  df['Date']=pd.to_datetime(df['Date'])\n",
      "C:\\Users\\Jahnavi Jaitly\\AppData\\Local\\Temp\\ipykernel_1840\\1437625883.py:1: UserWarning: Parsing '19/09/2021' in DD/MM/YYYY format. Provide format or specify infer_datetime_format=True for consistent parsing.\n",
      "  df['Date']=pd.to_datetime(df['Date'])\n",
      "C:\\Users\\Jahnavi Jaitly\\AppData\\Local\\Temp\\ipykernel_1840\\1437625883.py:1: UserWarning: Parsing '26/09/2021' in DD/MM/YYYY format. Provide format or specify infer_datetime_format=True for consistent parsing.\n",
      "  df['Date']=pd.to_datetime(df['Date'])\n",
      "C:\\Users\\Jahnavi Jaitly\\AppData\\Local\\Temp\\ipykernel_1840\\1437625883.py:1: UserWarning: Parsing '17/10/2021' in DD/MM/YYYY format. Provide format or specify infer_datetime_format=True for consistent parsing.\n",
      "  df['Date']=pd.to_datetime(df['Date'])\n",
      "C:\\Users\\Jahnavi Jaitly\\AppData\\Local\\Temp\\ipykernel_1840\\1437625883.py:1: UserWarning: Parsing '24/10/2021' in DD/MM/YYYY format. Provide format or specify infer_datetime_format=True for consistent parsing.\n",
      "  df['Date']=pd.to_datetime(df['Date'])\n",
      "C:\\Users\\Jahnavi Jaitly\\AppData\\Local\\Temp\\ipykernel_1840\\1437625883.py:1: UserWarning: Parsing '31/10/2021' in DD/MM/YYYY format. Provide format or specify infer_datetime_format=True for consistent parsing.\n",
      "  df['Date']=pd.to_datetime(df['Date'])\n",
      "C:\\Users\\Jahnavi Jaitly\\AppData\\Local\\Temp\\ipykernel_1840\\1437625883.py:1: UserWarning: Parsing '14/11/2021' in DD/MM/YYYY format. Provide format or specify infer_datetime_format=True for consistent parsing.\n",
      "  df['Date']=pd.to_datetime(df['Date'])\n",
      "C:\\Users\\Jahnavi Jaitly\\AppData\\Local\\Temp\\ipykernel_1840\\1437625883.py:1: UserWarning: Parsing '21/11/2021' in DD/MM/YYYY format. Provide format or specify infer_datetime_format=True for consistent parsing.\n",
      "  df['Date']=pd.to_datetime(df['Date'])\n",
      "C:\\Users\\Jahnavi Jaitly\\AppData\\Local\\Temp\\ipykernel_1840\\1437625883.py:1: UserWarning: Parsing '28/11/2021' in DD/MM/YYYY format. Provide format or specify infer_datetime_format=True for consistent parsing.\n",
      "  df['Date']=pd.to_datetime(df['Date'])\n",
      "C:\\Users\\Jahnavi Jaitly\\AppData\\Local\\Temp\\ipykernel_1840\\1437625883.py:1: UserWarning: Parsing '19/12/2021' in DD/MM/YYYY format. Provide format or specify infer_datetime_format=True for consistent parsing.\n",
      "  df['Date']=pd.to_datetime(df['Date'])\n",
      "C:\\Users\\Jahnavi Jaitly\\AppData\\Local\\Temp\\ipykernel_1840\\1437625883.py:1: UserWarning: Parsing '26/12/2021' in DD/MM/YYYY format. Provide format or specify infer_datetime_format=True for consistent parsing.\n",
      "  df['Date']=pd.to_datetime(df['Date'])\n"
     ]
    }
   ],
   "source": [
    "df['Date']=pd.to_datetime(df['Date'])\n",
    "print(df)\n",
    "print()\n",
    "print(df.dtypes)"
   ]
  },
  {
   "cell_type": "code",
   "execution_count": 142,
   "metadata": {},
   "outputs": [],
   "source": [
    "df['Date']=pd.to_datetime(df['Date'],format='%Y-%m-%d %I-%p')"
   ]
  },
  {
   "cell_type": "code",
   "execution_count": 143,
   "metadata": {},
   "outputs": [],
   "source": [
    "commit_date_Apache= df['Date']\n",
    "Adds_repo_Apache= df['Adds']"
   ]
  },
  {
   "cell_type": "code",
   "execution_count": 144,
   "metadata": {},
   "outputs": [
    {
     "data": {
      "text/plain": [
       "<function matplotlib.pyplot.tight_layout(*, pad=1.08, h_pad=None, w_pad=None, rect=None)>"
      ]
     },
     "execution_count": 144,
     "metadata": {},
     "output_type": "execute_result"
    },
    {
     "data": {
      "image/png": "[encoded data removed]",
      "text/plain": [
       "<Figure size 576x396 with 1 Axes>"
      ]
     },
     "metadata": {},
     "output_type": "display_data"
    }
   ],
   "source": [
    "plt.style.use('seaborn')\n",
    "plt.plot_date(commit_date_Apache,Adds_repo_Apache,linestyle='solid')\n",
    "plt.gcf().autofmt_xdate()\n",
    "plt.title('Apache')\n",
    "plt.xlabel('Dates')\n",
    "plt.ylabel('No.of Additions')\n",
    "plt.tight_layout"
   ]
  },
  {
   "cell_type": "code",
   "execution_count": 145,
   "metadata": {},
   "outputs": [
    {
     "data": {
      "text/html": [
       "<div>\n",
       "<style scoped>\n",
       "    .dataframe tbody tr th:only-of-type {\n",
       "        vertical-align: middle;\n",
       "    }\n",
       "\n",
       "    .dataframe tbody tr th {\n",
       "        vertical-align: top;\n",
       "    }\n",
       "\n",
       "    .dataframe thead th {\n",
       "        text-align: right;\n",
       "    }\n",
       "</style>\n",
       "<table border=\"1\" class=\"dataframe\">\n",
       "  <thead>\n",
       "    <tr style=\"text-align: right;\">\n",
       "      <th></th>\n",
       "      <th>Weeks</th>\n",
       "      <th>Adds</th>\n",
       "      <th>Subs</th>\n",
       "      <th>Year</th>\n",
       "      <th>Date</th>\n",
       "    </tr>\n",
       "  </thead>\n",
       "  <tbody>\n",
       "    <tr>\n",
       "      <th>0</th>\n",
       "      <td>1546732800</td>\n",
       "      <td>41328</td>\n",
       "      <td>-24154</td>\n",
       "      <td>2019</td>\n",
       "      <td>2019-01-06</td>\n",
       "    </tr>\n",
       "    <tr>\n",
       "      <th>1</th>\n",
       "      <td>1547337600</td>\n",
       "      <td>62289</td>\n",
       "      <td>-62185</td>\n",
       "      <td>2019</td>\n",
       "      <td>2019-01-13</td>\n",
       "    </tr>\n",
       "    <tr>\n",
       "      <th>2</th>\n",
       "      <td>1547942400</td>\n",
       "      <td>93915</td>\n",
       "      <td>-43697</td>\n",
       "      <td>2019</td>\n",
       "      <td>2019-01-20</td>\n",
       "    </tr>\n",
       "    <tr>\n",
       "      <th>3</th>\n",
       "      <td>1548547200</td>\n",
       "      <td>68611</td>\n",
       "      <td>-35970</td>\n",
       "      <td>2019</td>\n",
       "      <td>2019-01-27</td>\n",
       "    </tr>\n",
       "    <tr>\n",
       "      <th>4</th>\n",
       "      <td>1549152000</td>\n",
       "      <td>74541</td>\n",
       "      <td>-35071</td>\n",
       "      <td>2019</td>\n",
       "      <td>2019-02-03</td>\n",
       "    </tr>\n",
       "  </tbody>\n",
       "</table>\n",
       "</div>"
      ],
      "text/plain": [
       "        Weeks   Adds   Subs  Year        Date\n",
       "0  1546732800  41328 -24154  2019  2019-01-06\n",
       "1  1547337600  62289 -62185  2019  2019-01-13\n",
       "2  1547942400  93915 -43697  2019  2019-01-20\n",
       "3  1548547200  68611 -35970  2019  2019-01-27\n",
       "4  1549152000  74541 -35071  2019  2019-02-03"
      ]
     },
     "execution_count": 145,
     "metadata": {},
     "output_type": "execute_result"
    }
   ],
   "source": [
    "df = pd.read_csv('Linux.csv')\n",
    "df.head()"
   ]
  },
  {
   "cell_type": "code",
   "execution_count": 146,
   "metadata": {},
   "outputs": [
    {
     "name": "stdout",
     "output_type": "stream",
     "text": [
      "Weeks                                         268335244800\n",
      "Adds                                              14564439\n",
      "Subs                                              -7789296\n",
      "Year                                                339384\n",
      "Date     2019-01-062019-01-132019-01-202019-01-272019-0...\n",
      "dtype: object\n"
     ]
    }
   ],
   "source": [
    "sum_of_cols=df.sum(axis=0)\n",
    "print(sum_of_cols)"
   ]
  },
  {
   "cell_type": "code",
   "execution_count": 147,
   "metadata": {},
   "outputs": [
    {
     "data": {
      "text/html": [
       "<div>\n",
       "<style scoped>\n",
       "    .dataframe tbody tr th:only-of-type {\n",
       "        vertical-align: middle;\n",
       "    }\n",
       "\n",
       "    .dataframe tbody tr th {\n",
       "        vertical-align: top;\n",
       "    }\n",
       "\n",
       "    .dataframe thead th {\n",
       "        text-align: right;\n",
       "    }\n",
       "</style>\n",
       "<table border=\"1\" class=\"dataframe\">\n",
       "  <thead>\n",
       "    <tr style=\"text-align: right;\">\n",
       "      <th></th>\n",
       "      <th>Adds</th>\n",
       "      <th>Year</th>\n",
       "    </tr>\n",
       "  </thead>\n",
       "  <tbody>\n",
       "    <tr>\n",
       "      <th>166</th>\n",
       "      <td>477374</td>\n",
       "      <td>2022</td>\n",
       "    </tr>\n",
       "    <tr>\n",
       "      <th>165</th>\n",
       "      <td>407483</td>\n",
       "      <td>2019</td>\n",
       "    </tr>\n",
       "    <tr>\n",
       "      <th>164</th>\n",
       "      <td>372505</td>\n",
       "      <td>2020</td>\n",
       "    </tr>\n",
       "    <tr>\n",
       "      <th>163</th>\n",
       "      <td>352536</td>\n",
       "      <td>2019</td>\n",
       "    </tr>\n",
       "    <tr>\n",
       "      <th>162</th>\n",
       "      <td>297996</td>\n",
       "      <td>2020</td>\n",
       "    </tr>\n",
       "    <tr>\n",
       "      <th>161</th>\n",
       "      <td>293996</td>\n",
       "      <td>2020</td>\n",
       "    </tr>\n",
       "    <tr>\n",
       "      <th>160</th>\n",
       "      <td>278217</td>\n",
       "      <td>2020</td>\n",
       "    </tr>\n",
       "    <tr>\n",
       "      <th>159</th>\n",
       "      <td>209163</td>\n",
       "      <td>2019</td>\n",
       "    </tr>\n",
       "    <tr>\n",
       "      <th>158</th>\n",
       "      <td>204571</td>\n",
       "      <td>2021</td>\n",
       "    </tr>\n",
       "    <tr>\n",
       "      <th>157</th>\n",
       "      <td>202705</td>\n",
       "      <td>2019</td>\n",
       "    </tr>\n",
       "  </tbody>\n",
       "</table>\n",
       "</div>"
      ],
      "text/plain": [
       "       Adds  Year\n",
       "166  477374  2022\n",
       "165  407483  2019\n",
       "164  372505  2020\n",
       "163  352536  2019\n",
       "162  297996  2020\n",
       "161  293996  2020\n",
       "160  278217  2020\n",
       "159  209163  2019\n",
       "158  204571  2021\n",
       "157  202705  2019"
      ]
     },
     "execution_count": 147,
     "metadata": {},
     "output_type": "execute_result"
    }
   ],
   "source": [
    "Adds_by_year_Linux = df.groupby(['Adds'])['Year'].sum().reset_index().sort_values('Adds', ascending=False)\n",
    "Adds_by_year_Linux.head(10)"
   ]
  },
  {
   "cell_type": "code",
   "execution_count": 19,
   "metadata": {},
   "outputs": [],
   "source": [
    "#GRAPH FOR Linux"
   ]
  },
  {
   "cell_type": "code",
   "execution_count": 148,
   "metadata": {},
   "outputs": [
    {
     "data": {
      "text/plain": [
       "Text(0.5, 0, 'Year')"
      ]
     },
     "execution_count": 148,
     "metadata": {},
     "output_type": "execute_result"
    },
    {
     "data": {
      "image/png": "[encoded data removed]",
      "text/plain": [
       "<Figure size 576x396 with 1 Axes>"
      ]
     },
     "metadata": {},
     "output_type": "display_data"
    }
   ],
   "source": [
    "plot_annual_pr = sns.barplot(data=Adds_by_year_Linux.query('Year < 2022 & Year > 2018'),x='Year',y='Adds',ci=None)\n",
    "plot_annual_pr.set_ylabel('Adds For Linux (10000)')\n",
    "plot_annual_pr.set_xlabel('Year')"
   ]
  },
  {
   "cell_type": "code",
   "execution_count": 149,
   "metadata": {},
   "outputs": [
    {
     "name": "stdout",
     "output_type": "stream",
     "text": [
      "          Weeks    Adds    Subs  Year       Date\n",
      "0    1546732800   41328  -24154  2019 2019-01-06\n",
      "1    1547337600   62289  -62185  2019 2019-01-13\n",
      "2    1547942400   93915  -43697  2019 2019-01-20\n",
      "3    1548547200   68611  -35970  2019 2019-01-27\n",
      "4    1549152000   74541  -35071  2019 2019-02-03\n",
      "..          ...     ...     ...   ...        ...\n",
      "163  1645315200   88884  -40564  2022 2022-02-20\n",
      "164  1645920000   37003  -33480  2022 2022-02-27\n",
      "165  1646524800   77880  -57954  2022 2022-03-06\n",
      "166  1647129600  183368 -169923  2022 2022-03-13\n",
      "167  1647734400   15944   -8091  2022 2022-03-20\n",
      "\n",
      "[168 rows x 5 columns]\n",
      "\n",
      "Weeks             int64\n",
      "Adds              int64\n",
      "Subs              int64\n",
      "Year              int64\n",
      "Date     datetime64[ns]\n",
      "dtype: object\n"
     ]
    }
   ],
   "source": [
    "df['Date']=pd.to_datetime(df['Date'])\n",
    "print(df)\n",
    "print()\n",
    "print(df.dtypes)"
   ]
  },
  {
   "cell_type": "code",
   "execution_count": 166,
   "metadata": {},
   "outputs": [],
   "source": [
    "commit_date_Linux= df['Date']\n",
    "Adds_repo_Linux= df['Adds']"
   ]
  },
  {
   "cell_type": "code",
   "execution_count": 151,
   "metadata": {},
   "outputs": [
    {
     "data": {
      "text/plain": [
       "<function matplotlib.pyplot.tight_layout(*, pad=1.08, h_pad=None, w_pad=None, rect=None)>"
      ]
     },
     "execution_count": 151,
     "metadata": {},
     "output_type": "execute_result"
    },
    {
     "data": {
      "image/png": "[encoded data removed]",
      "text/plain": [
       "<Figure size 576x396 with 1 Axes>"
      ]
     },
     "metadata": {},
     "output_type": "display_data"
    }
   ],
   "source": [
    "plt.style.use('seaborn')\n",
    "plt.plot_date(commit_date_Linux,Adds_repo_Linux,linestyle='solid')\n",
    "plt.gcf().autofmt_xdate()\n",
    "plt.title('Linux')\n",
    "plt.xlabel('Dates')\n",
    "plt.ylabel('No.of Additions')\n",
    "plt.tight_layout"
   ]
  },
  {
   "cell_type": "code",
   "execution_count": 53,
   "metadata": {},
   "outputs": [
    {
     "data": {
      "text/html": [
       "<div>\n",
       "<style scoped>\n",
       "    .dataframe tbody tr th:only-of-type {\n",
       "        vertical-align: middle;\n",
       "    }\n",
       "\n",
       "    .dataframe tbody tr th {\n",
       "        vertical-align: top;\n",
       "    }\n",
       "\n",
       "    .dataframe thead th {\n",
       "        text-align: right;\n",
       "    }\n",
       "</style>\n",
       "<table border=\"1\" class=\"dataframe\">\n",
       "  <thead>\n",
       "    <tr style=\"text-align: right;\">\n",
       "      <th></th>\n",
       "      <th>Adds</th>\n",
       "      <th>Subs</th>\n",
       "      <th>Year</th>\n",
       "    </tr>\n",
       "  </thead>\n",
       "  <tbody>\n",
       "    <tr>\n",
       "      <th>0</th>\n",
       "      <td>365</td>\n",
       "      <td>0</td>\n",
       "      <td>2018</td>\n",
       "    </tr>\n",
       "    <tr>\n",
       "      <th>1</th>\n",
       "      <td>99</td>\n",
       "      <td>-1</td>\n",
       "      <td>2018</td>\n",
       "    </tr>\n",
       "    <tr>\n",
       "      <th>2</th>\n",
       "      <td>0</td>\n",
       "      <td>0</td>\n",
       "      <td>2018</td>\n",
       "    </tr>\n",
       "    <tr>\n",
       "      <th>3</th>\n",
       "      <td>0</td>\n",
       "      <td>0</td>\n",
       "      <td>2018</td>\n",
       "    </tr>\n",
       "    <tr>\n",
       "      <th>4</th>\n",
       "      <td>0</td>\n",
       "      <td>0</td>\n",
       "      <td>2018</td>\n",
       "    </tr>\n",
       "  </tbody>\n",
       "</table>\n",
       "</div>"
      ],
      "text/plain": [
       "   Adds  Subs  Year\n",
       "0   365     0  2018\n",
       "1    99    -1  2018\n",
       "2     0     0  2018\n",
       "3     0     0  2018\n",
       "4     0     0  2018"
      ]
     },
     "execution_count": 53,
     "metadata": {},
     "output_type": "execute_result"
    }
   ],
   "source": [
    "df = pd.read_csv('Microsoft_ui_xaml.csv')\n",
    "df.head()"
   ]
  },
  {
   "cell_type": "code",
   "execution_count": 54,
   "metadata": {},
   "outputs": [
    {
     "name": "stdout",
     "output_type": "stream",
     "text": [
      "Adds    1661189\n",
      "Subs    -896010\n",
      "Year     383772\n",
      "dtype: int64\n"
     ]
    }
   ],
   "source": [
    "sum_of_cols=df.sum(axis=0)\n",
    "print(sum_of_cols)"
   ]
  },
  {
   "cell_type": "code",
   "execution_count": 55,
   "metadata": {},
   "outputs": [
    {
     "data": {
      "text/html": [
       "<div>\n",
       "<style scoped>\n",
       "    .dataframe tbody tr th:only-of-type {\n",
       "        vertical-align: middle;\n",
       "    }\n",
       "\n",
       "    .dataframe tbody tr th {\n",
       "        vertical-align: top;\n",
       "    }\n",
       "\n",
       "    .dataframe thead th {\n",
       "        text-align: right;\n",
       "    }\n",
       "</style>\n",
       "<table border=\"1\" class=\"dataframe\">\n",
       "  <thead>\n",
       "    <tr style=\"text-align: right;\">\n",
       "      <th></th>\n",
       "      <th>Adds</th>\n",
       "      <th>Year</th>\n",
       "    </tr>\n",
       "  </thead>\n",
       "  <tbody>\n",
       "    <tr>\n",
       "      <th>170</th>\n",
       "      <td>353968</td>\n",
       "      <td>2018</td>\n",
       "    </tr>\n",
       "    <tr>\n",
       "      <th>169</th>\n",
       "      <td>110881</td>\n",
       "      <td>2020</td>\n",
       "    </tr>\n",
       "    <tr>\n",
       "      <th>168</th>\n",
       "      <td>88898</td>\n",
       "      <td>2021</td>\n",
       "    </tr>\n",
       "    <tr>\n",
       "      <th>167</th>\n",
       "      <td>71723</td>\n",
       "      <td>2021</td>\n",
       "    </tr>\n",
       "    <tr>\n",
       "      <th>166</th>\n",
       "      <td>71342</td>\n",
       "      <td>2020</td>\n",
       "    </tr>\n",
       "    <tr>\n",
       "      <th>165</th>\n",
       "      <td>69577</td>\n",
       "      <td>2021</td>\n",
       "    </tr>\n",
       "    <tr>\n",
       "      <th>164</th>\n",
       "      <td>63766</td>\n",
       "      <td>2021</td>\n",
       "    </tr>\n",
       "    <tr>\n",
       "      <th>163</th>\n",
       "      <td>60793</td>\n",
       "      <td>2020</td>\n",
       "    </tr>\n",
       "    <tr>\n",
       "      <th>162</th>\n",
       "      <td>46751</td>\n",
       "      <td>2019</td>\n",
       "    </tr>\n",
       "    <tr>\n",
       "      <th>161</th>\n",
       "      <td>46288</td>\n",
       "      <td>2021</td>\n",
       "    </tr>\n",
       "  </tbody>\n",
       "</table>\n",
       "</div>"
      ],
      "text/plain": [
       "       Adds  Year\n",
       "170  353968  2018\n",
       "169  110881  2020\n",
       "168   88898  2021\n",
       "167   71723  2021\n",
       "166   71342  2020\n",
       "165   69577  2021\n",
       "164   63766  2021\n",
       "163   60793  2020\n",
       "162   46751  2019\n",
       "161   46288  2021"
      ]
     },
     "execution_count": 55,
     "metadata": {},
     "output_type": "execute_result"
    }
   ],
   "source": [
    "Adds_by_year_Mic = df.groupby(['Adds'])['Year'].sum().reset_index().sort_values('Adds', ascending=False)\n",
    "Adds_by_year_Mic.head(10)"
   ]
  },
  {
   "cell_type": "code",
   "execution_count": 56,
   "metadata": {},
   "outputs": [
    {
     "data": {
      "text/plain": [
       "Text(0.5, 0, 'Year')"
      ]
     },
     "execution_count": 56,
     "metadata": {},
     "output_type": "execute_result"
    },
    {
     "data": {
      "image/png": "[encoded data removed]",
      "text/plain": [
       "<Figure size 432x288 with 1 Axes>"
      ]
     },
     "metadata": {},
     "output_type": "display_data"
    }
   ],
   "source": [
    "plot_annual_pr = sns.barplot(data=Adds_by_year_Mic.query('Year < 2022 & Year > 2018'),x='Year',y='Adds',ci=None)\n",
    "plot_annual_pr.set_ylabel('Adds For Microsoft-ui-xaml (10000)')\n",
    "plot_annual_pr.set_xlabel('Year')"
   ]
  },
  {
   "cell_type": "code",
   "execution_count": 161,
   "metadata": {},
   "outputs": [
    {
     "name": "stdout",
     "output_type": "stream",
     "text": [
      "           Week    Adds    Subs  Year       Date\n",
      "0    1546732800    1047    -647  2019 2019-01-06\n",
      "1    1547337600   13320  -11079  2019 2019-01-13\n",
      "2    1547942400    3383   -1545  2019 2019-01-20\n",
      "3    1548547200    2111   -1030  2019 2019-01-27\n",
      "4    1549152000    4918   -3929  2019 2019-02-03\n",
      "..          ...     ...     ...   ...        ...\n",
      "163  1645315200    1850  -48447  2022 2022-02-20\n",
      "164  1645920000  179059 -177813  2022 2022-02-27\n",
      "165  1646524800    2407   -2408  2022 2022-03-06\n",
      "166  1647129600    2815   -2207  2022 2022-03-13\n",
      "167  1647734400    4996   -2368  2022 2022-03-20\n",
      "\n",
      "[168 rows x 5 columns]\n",
      "\n",
      "Week             int64\n",
      "Adds             int64\n",
      "Subs             int64\n",
      "Year             int64\n",
      "Date    datetime64[ns]\n",
      "dtype: object\n"
     ]
    }
   ],
   "source": [
    "df['Date']=pd.to_datetime(df['Date'])\n",
    "print(df)\n",
    "print()\n",
    "print(df.dtypes)"
   ]
  },
  {
   "cell_type": "code",
   "execution_count": 162,
   "metadata": {},
   "outputs": [],
   "source": [
    "commit_date_microsoft= df['Date']\n",
    "Adds_repo_microsoft= df['Adds']"
   ]
  },
  {
   "cell_type": "code",
   "execution_count": 164,
   "metadata": {},
   "outputs": [
    {
     "data": {
      "text/plain": [
       "<function matplotlib.pyplot.tight_layout(*, pad=1.08, h_pad=None, w_pad=None, rect=None)>"
      ]
     },
     "execution_count": 164,
     "metadata": {},
     "output_type": "execute_result"
    },
    {
     "data": {
      "image/png": "[encoded data removed]",
      "text/plain": [
       "<Figure size 576x396 with 1 Axes>"
      ]
     },
     "metadata": {},
     "output_type": "display_data"
    }
   ],
   "source": [
    "plt.style.use('seaborn')\n",
    "plt.plot_date(commit_date_microsoft,Adds_repo_microsoft,linestyle='solid')\n",
    "plt.gcf().autofmt_xdate()\n",
    "plt.title('Microsoft')\n",
    "plt.xlabel('Dates')\n",
    "plt.ylabel('No.of Additions')\n",
    "plt.tight_layout"
   ]
  },
  {
   "cell_type": "code",
   "execution_count": 152,
   "metadata": {},
   "outputs": [
    {
     "data": {
      "text/html": [
       "<div>\n",
       "<style scoped>\n",
       "    .dataframe tbody tr th:only-of-type {\n",
       "        vertical-align: middle;\n",
       "    }\n",
       "\n",
       "    .dataframe tbody tr th {\n",
       "        vertical-align: top;\n",
       "    }\n",
       "\n",
       "    .dataframe thead th {\n",
       "        text-align: right;\n",
       "    }\n",
       "</style>\n",
       "<table border=\"1\" class=\"dataframe\">\n",
       "  <thead>\n",
       "    <tr style=\"text-align: right;\">\n",
       "      <th></th>\n",
       "      <th>Week</th>\n",
       "      <th>Adds</th>\n",
       "      <th>Subs</th>\n",
       "      <th>Year</th>\n",
       "      <th>Date</th>\n",
       "    </tr>\n",
       "  </thead>\n",
       "  <tbody>\n",
       "    <tr>\n",
       "      <th>0</th>\n",
       "      <td>1546732800</td>\n",
       "      <td>1047</td>\n",
       "      <td>-647</td>\n",
       "      <td>2019</td>\n",
       "      <td>2019-01-06</td>\n",
       "    </tr>\n",
       "    <tr>\n",
       "      <th>1</th>\n",
       "      <td>1547337600</td>\n",
       "      <td>13320</td>\n",
       "      <td>-11079</td>\n",
       "      <td>2019</td>\n",
       "      <td>2019-01-13</td>\n",
       "    </tr>\n",
       "    <tr>\n",
       "      <th>2</th>\n",
       "      <td>1547942400</td>\n",
       "      <td>3383</td>\n",
       "      <td>-1545</td>\n",
       "      <td>2019</td>\n",
       "      <td>2019-01-20</td>\n",
       "    </tr>\n",
       "    <tr>\n",
       "      <th>3</th>\n",
       "      <td>1548547200</td>\n",
       "      <td>2111</td>\n",
       "      <td>-1030</td>\n",
       "      <td>2019</td>\n",
       "      <td>2019-01-27</td>\n",
       "    </tr>\n",
       "    <tr>\n",
       "      <th>4</th>\n",
       "      <td>1549152000</td>\n",
       "      <td>4918</td>\n",
       "      <td>-3929</td>\n",
       "      <td>2019</td>\n",
       "      <td>2019-02-03</td>\n",
       "    </tr>\n",
       "  </tbody>\n",
       "</table>\n",
       "</div>"
      ],
      "text/plain": [
       "         Week   Adds   Subs  Year        Date\n",
       "0  1546732800   1047   -647  2019  2019-01-06\n",
       "1  1547337600  13320 -11079  2019  2019-01-13\n",
       "2  1547942400   3383  -1545  2019  2019-01-20\n",
       "3  1548547200   2111  -1030  2019  2019-01-27\n",
       "4  1549152000   4918  -3929  2019  2019-02-03"
      ]
     },
     "execution_count": 152,
     "metadata": {},
     "output_type": "execute_result"
    }
   ],
   "source": [
    "df = pd.read_csv('freeCodeCamp.csv')\n",
    "df.head()"
   ]
  },
  {
   "cell_type": "code",
   "execution_count": 153,
   "metadata": {},
   "outputs": [
    {
     "name": "stdout",
     "output_type": "stream",
     "text": [
      "Week                                         268335244800\n",
      "Adds                                              5956953\n",
      "Subs                                             -5893764\n",
      "Year                                               339384\n",
      "Date    2019-01-062019-01-132019-01-202019-01-272019-0...\n",
      "dtype: object\n"
     ]
    }
   ],
   "source": [
    "sum_of_cols=df.sum(axis=0)\n",
    "print(sum_of_cols)"
   ]
  },
  {
   "cell_type": "code",
   "execution_count": 154,
   "metadata": {},
   "outputs": [
    {
     "data": {
      "text/html": [
       "<div>\n",
       "<style scoped>\n",
       "    .dataframe tbody tr th:only-of-type {\n",
       "        vertical-align: middle;\n",
       "    }\n",
       "\n",
       "    .dataframe tbody tr th {\n",
       "        vertical-align: top;\n",
       "    }\n",
       "\n",
       "    .dataframe thead th {\n",
       "        text-align: right;\n",
       "    }\n",
       "</style>\n",
       "<table border=\"1\" class=\"dataframe\">\n",
       "  <thead>\n",
       "    <tr style=\"text-align: right;\">\n",
       "      <th></th>\n",
       "      <th>Adds</th>\n",
       "      <th>Year</th>\n",
       "    </tr>\n",
       "  </thead>\n",
       "  <tbody>\n",
       "    <tr>\n",
       "      <th>166</th>\n",
       "      <td>506437</td>\n",
       "      <td>2021</td>\n",
       "    </tr>\n",
       "    <tr>\n",
       "      <th>165</th>\n",
       "      <td>450713</td>\n",
       "      <td>2020</td>\n",
       "    </tr>\n",
       "    <tr>\n",
       "      <th>164</th>\n",
       "      <td>271850</td>\n",
       "      <td>2021</td>\n",
       "    </tr>\n",
       "    <tr>\n",
       "      <th>163</th>\n",
       "      <td>251109</td>\n",
       "      <td>2021</td>\n",
       "    </tr>\n",
       "    <tr>\n",
       "      <th>162</th>\n",
       "      <td>243169</td>\n",
       "      <td>2021</td>\n",
       "    </tr>\n",
       "    <tr>\n",
       "      <th>161</th>\n",
       "      <td>241257</td>\n",
       "      <td>2021</td>\n",
       "    </tr>\n",
       "    <tr>\n",
       "      <th>160</th>\n",
       "      <td>227302</td>\n",
       "      <td>2021</td>\n",
       "    </tr>\n",
       "    <tr>\n",
       "      <th>159</th>\n",
       "      <td>206146</td>\n",
       "      <td>2022</td>\n",
       "    </tr>\n",
       "    <tr>\n",
       "      <th>158</th>\n",
       "      <td>200852</td>\n",
       "      <td>2021</td>\n",
       "    </tr>\n",
       "    <tr>\n",
       "      <th>157</th>\n",
       "      <td>182931</td>\n",
       "      <td>2021</td>\n",
       "    </tr>\n",
       "  </tbody>\n",
       "</table>\n",
       "</div>"
      ],
      "text/plain": [
       "       Adds  Year\n",
       "166  506437  2021\n",
       "165  450713  2020\n",
       "164  271850  2021\n",
       "163  251109  2021\n",
       "162  243169  2021\n",
       "161  241257  2021\n",
       "160  227302  2021\n",
       "159  206146  2022\n",
       "158  200852  2021\n",
       "157  182931  2021"
      ]
     },
     "execution_count": 154,
     "metadata": {},
     "output_type": "execute_result"
    }
   ],
   "source": [
    "Adds_by_year_freecamp = df.groupby(['Adds'])['Year'].sum().reset_index().sort_values('Adds', ascending=False)\n",
    "Adds_by_year_freecamp.head(10)"
   ]
  },
  {
   "cell_type": "code",
   "execution_count": 156,
   "metadata": {},
   "outputs": [
    {
     "data": {
      "text/plain": [
       "Text(0.5, 0, 'Year')"
      ]
     },
     "execution_count": 156,
     "metadata": {},
     "output_type": "execute_result"
    },
    {
     "data": {
      "image/png": "[encoded data removed]",
      "text/plain": [
       "<Figure size 576x396 with 1 Axes>"
      ]
     },
     "metadata": {},
     "output_type": "display_data"
    }
   ],
   "source": [
    "plot_annual_pr = sns.barplot(data=Adds_by_year_freecamp.query('Year < 2022 & Year > 2018'),x='Year',y='Adds',ci=None)\n",
    "plot_annual_pr.set_ylabel('Adds For freeCodeCamp (10000)')\n",
    "plot_annual_pr.set_xlabel('Year')"
   ]
  },
  {
   "cell_type": "code",
   "execution_count": 157,
   "metadata": {},
   "outputs": [
    {
     "name": "stdout",
     "output_type": "stream",
     "text": [
      "           Week    Adds    Subs  Year       Date\n",
      "0    1546732800    1047    -647  2019 2019-01-06\n",
      "1    1547337600   13320  -11079  2019 2019-01-13\n",
      "2    1547942400    3383   -1545  2019 2019-01-20\n",
      "3    1548547200    2111   -1030  2019 2019-01-27\n",
      "4    1549152000    4918   -3929  2019 2019-02-03\n",
      "..          ...     ...     ...   ...        ...\n",
      "163  1645315200    1850  -48447  2022 2022-02-20\n",
      "164  1645920000  179059 -177813  2022 2022-02-27\n",
      "165  1646524800    2407   -2408  2022 2022-03-06\n",
      "166  1647129600    2815   -2207  2022 2022-03-13\n",
      "167  1647734400    4996   -2368  2022 2022-03-20\n",
      "\n",
      "[168 rows x 5 columns]\n",
      "\n",
      "Week             int64\n",
      "Adds             int64\n",
      "Subs             int64\n",
      "Year             int64\n",
      "Date    datetime64[ns]\n",
      "dtype: object\n"
     ]
    }
   ],
   "source": [
    "df['Date']=pd.to_datetime(df['Date'])\n",
    "print(df)\n",
    "print()\n",
    "print(df.dtypes)"
   ]
  },
  {
   "cell_type": "code",
   "execution_count": 158,
   "metadata": {},
   "outputs": [],
   "source": [
    "commit_date_freecode= df['Date']\n",
    "Adds_repo_freecode= df['Adds']"
   ]
  },
  {
   "cell_type": "code",
   "execution_count": 160,
   "metadata": {},
   "outputs": [
    {
     "data": {
      "text/plain": [
       "<function matplotlib.pyplot.tight_layout(*, pad=1.08, h_pad=None, w_pad=None, rect=None)>"
      ]
     },
     "execution_count": 160,
     "metadata": {},
     "output_type": "execute_result"
    },
    {
     "data": {
      "image/png": "[encoded data removed]",
      "text/plain": [
       "<Figure size 576x396 with 1 Axes>"
      ]
     },
     "metadata": {},
     "output_type": "display_data"
    }
   ],
   "source": [
    "plt.style.use('seaborn')\n",
    "plt.plot_date(commit_date_freecode,Adds_repo_freecode,linestyle='solid')\n",
    "plt.gcf().autofmt_xdate()\n",
    "plt.title('freeCodeCamp')\n",
    "plt.xlabel('Dates')\n",
    "plt.ylabel('No.of Additions')\n",
    "plt.tight_layout"
   ]
  },
  {
   "cell_type": "code",
   "execution_count": null,
   "metadata": {},
   "outputs": [],
   "source": []
  }
 ],
 "metadata": {
  "interpreter": {
   "hash": "5f71c3bec2712fff74f13540ee820a2e8c320a5447b951809f9c8c0c215ea670"
  },
  "kernelspec": {
   "display_name": "Python 3.9.4 64-bit",
   "language": "python",
   "name": "python3"
  },
  "language_info": {
   "codemirror_mode": {
    "name": "ipython",
    "version": 3
   },
   "file_extension": ".py",
   "mimetype": "text/x-python",
   "name": "python",
   "nbconvert_exporter": "python",
   "pygments_lexer": "ipython3",
   "version": "3.9.4"
  },
  "orig_nbformat": 4
 },
 "nbformat": 4,
 "nbformat_minor": 2
}
